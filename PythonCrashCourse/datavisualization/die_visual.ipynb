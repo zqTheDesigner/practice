{
 "cells": [
  {
   "cell_type": "code",
   "execution_count": 7,
   "metadata": {},
   "outputs": [
    {
     "data": {
      "text/plain": [
       "'d6_d6.html'"
      ]
     },
     "execution_count": 7,
     "metadata": {},
     "output_type": "execute_result"
    }
   ],
   "source": [
    "from die import Die\n",
    "\n",
    "from plotly.graph_objs import Bar, Layout\n",
    "from plotly import offline\n",
    "\n",
    "# Create two D6 dice.\n",
    "die_1 = Die()\n",
    "die_2 = Die()\n",
    "\n",
    "results = []\n",
    "\n",
    "for roll_num in range(1000):\n",
    "\tresult = die_1.roll() + die_2.roll()\n",
    "\tresults.append(result)\n",
    "\n",
    "# Analyze the results.\n",
    "frequencies = []\n",
    "max_result = die_1.num_sides + die_2.num_sides\n",
    "for value in range(1, max_result + 1):\n",
    "\tfrequency = results.count(value)\n",
    "\tfrequencies.append(frequency)\n",
    "\n",
    "\n",
    "# Visualize the results.\n",
    "x_values = list(range(2, max_result+1))\n",
    "data = [Bar(x=x_values, y=frequencies)]\n",
    "\n",
    "x_axis_config = {'title':'Result', 'dtick':1}\n",
    "y_axis_config = {'title':'Frequency of result'}\n",
    "\n",
    "my_layout = Layout(title='Results of rolling tow D6 1000 times', xaxis=x_axis_config, yaxis=y_axis_config)\n",
    "\n",
    "offline.plot({'data':data, 'layout': my_layout}, filename='d6_d6.html')\n",
    "\n",
    "\n"
   ]
  }
 ],
 "metadata": {
  "interpreter": {
   "hash": "aee8b7b246df8f9039afb4144a1f6fd8d2ca17a180786b69acc140d282b71a49"
  },
  "kernelspec": {
   "display_name": "Python 3.9.10 64-bit",
   "language": "python",
   "name": "python3"
  },
  "language_info": {
   "codemirror_mode": {
    "name": "ipython",
    "version": 3
   },
   "file_extension": ".py",
   "mimetype": "text/x-python",
   "name": "python",
   "nbconvert_exporter": "python",
   "pygments_lexer": "ipython3",
   "version": "3.9.10"
  },
  "orig_nbformat": 4
 },
 "nbformat": 4,
 "nbformat_minor": 2
}
