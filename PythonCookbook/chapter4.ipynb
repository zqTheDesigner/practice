{
 "cells": [
  {
   "cell_type": "code",
   "execution_count": 4,
   "metadata": {},
   "outputs": [
    {
     "name": "stdout",
     "output_type": "stream",
     "text": [
      "[1, 2, 3, 4]\n",
      "<list_iterator object at 0x10570fb20>\n",
      "1\n",
      "2\n",
      "3\n",
      "4\n"
     ]
    }
   ],
   "source": [
    "items = [1,2,3,4]\n",
    "it = iter(items)\n",
    "print(items)\n",
    "print(it)\n",
    "\n",
    "try :\n",
    "\twhile True:\n",
    "\t\tprint(next(it))\n",
    "except StopIteration:\n",
    "\tpass"
   ]
  },
  {
   "cell_type": "code",
   "execution_count": 5,
   "metadata": {},
   "outputs": [
    {
     "name": "stdout",
     "output_type": "stream",
     "text": [
      "Node(1)\n",
      "Node(2)\n"
     ]
    }
   ],
   "source": [
    "class Node:\n",
    "\tdef __init__(self, value):\n",
    "\t\tself._value = value\n",
    "\t\tself._children = []\n",
    "\n",
    "\tdef __repr__(self):\n",
    "\t\treturn 'Node({!r})'.format(self._value)\n",
    "\n",
    "\tdef add_child(self, node):\n",
    "\t\tself._children.append(node)\n",
    "\n",
    "\tdef __iter__(self):\n",
    "\t\treturn iter(self._children)\n",
    "\n",
    "root = Node(0)\n",
    "child1 = Node(1)\n",
    "child2 = Node(2)\n",
    "\n",
    "root.add_child(child1)\n",
    "root.add_child(child2)\n",
    "\n",
    "for ch in root:\n",
    "\tprint(ch)\n"
   ]
  },
  {
   "cell_type": "code",
   "execution_count": 9,
   "metadata": {},
   "outputs": [
    {
     "data": {
      "text/plain": [
       "[1, 1.3, 1.6, 1.9000000000000001]"
      ]
     },
     "execution_count": 9,
     "metadata": {},
     "output_type": "execute_result"
    }
   ],
   "source": [
    "def frange(start, stop, increment):\n",
    "\tx = start \n",
    "\twhile x < stop:\n",
    "\t\tyield x\n",
    "\t\tx += increment\n",
    "\n",
    "list(frange(1,2,0.3))"
   ]
  },
  {
   "cell_type": "code",
   "execution_count": 16,
   "metadata": {},
   "outputs": [
    {
     "data": {
      "text/plain": [
       "deque([(2, 'python'), (3, '1234'), (4, 'test')])"
      ]
     },
     "execution_count": 16,
     "metadata": {},
     "output_type": "execute_result"
    }
   ],
   "source": [
    "from collections import deque\n",
    "\n",
    "class linehistory:\n",
    "\tdef __init__(self, lines, histlen=3):\n",
    "\t\tself.lines = lines\n",
    "\t\tself.history = deque(maxlen=histlen)\n",
    "\n",
    "\tdef __iter__(self):\n",
    "\t\tfor lineno, line in enumerate(self.lines, 1):\n",
    "\t\t\tself.history.append((lineno, line))\n",
    "\t\t\tyield line\n",
    "\t\t\n",
    "\tdef clear(self):\n",
    "\t\tself.history.clear()\n",
    "\n",
    "lines = iter(['apple', 'python', '1234', 'test'])\n",
    "\n",
    "lines = linehistory(lines)\n",
    "\n",
    "# for line in lines:\n",
    "# \tif 'python' in line:\n",
    "# \t\tfor lineno, hline in lines.history:\n",
    "# \t\t\tprint('{}{}'.format(lineno, hline), end='')\n",
    "\n",
    "it = iter(lines)\n",
    "next(it)\n",
    "next(it)\n",
    "next(it)\n",
    "next(it)\n",
    "\n",
    "lines.history\n"
   ]
  },
  {
   "cell_type": "code",
   "execution_count": 18,
   "metadata": {},
   "outputs": [
    {
     "name": "stdout",
     "output_type": "stream",
     "text": [
      "0\n",
      "1\n",
      "2\n",
      "3\n",
      "4\n",
      "5\n",
      "6\n",
      "7\n",
      "8\n",
      "9\n"
     ]
    }
   ],
   "source": [
    "def count(n):\n",
    "\ta = 0\n",
    "\twhile a < n:\n",
    "\t\tyield a\n",
    "\t\ta += 1\n",
    "\n",
    "c = count(20)\n",
    "\n",
    "import itertools\n",
    "\n",
    "for x in itertools.islice(c, 0, 10):\n",
    "\tprint(x)"
   ]
  },
  {
   "cell_type": "code",
   "execution_count": 19,
   "metadata": {},
   "outputs": [
    {
     "name": "stdout",
     "output_type": "stream",
     "text": [
      "d\n",
      "1\n",
      "4\n",
      "10\n",
      "15\n"
     ]
    }
   ],
   "source": [
    "from itertools import islice\n",
    "items = ['a', 'b', 'c', 'd', 1, 4, 10, 15]\n",
    "# Skip particular part of an iterator\n",
    "for x in islice(items, 3, None):\n",
    "\tprint(x)"
   ]
  },
  {
   "cell_type": "code",
   "execution_count": 25,
   "metadata": {},
   "outputs": [
    {
     "name": "stdout",
     "output_type": "stream",
     "text": [
      "('a', 'b', 'c')\n",
      "('a', 'c', 'b')\n",
      "('b', 'a', 'c')\n",
      "('b', 'c', 'a')\n",
      "('c', 'a', 'b')\n",
      "('c', 'b', 'a')\n",
      "('a', 'b')\n",
      "('a', 'c')\n",
      "('b', 'a')\n",
      "('b', 'c')\n",
      "('c', 'a')\n",
      "('c', 'b')\n"
     ]
    }
   ],
   "source": [
    "items = ['a', 'b', 'c']\n",
    "from itertools import permutations\n",
    "for p in permutations(items):\n",
    "\tprint(p)\n",
    "\n",
    "for p in permutations(items, 2):\n",
    "\tprint(p)\n",
    "\n"
   ]
  },
  {
   "cell_type": "code",
   "execution_count": 30,
   "metadata": {},
   "outputs": [
    {
     "name": "stdout",
     "output_type": "stream",
     "text": [
      "('a', 'b')\n",
      "('a', 'c')\n",
      "('b', 'c')\n"
     ]
    }
   ],
   "source": [
    "from itertools import combinations\n",
    "\n",
    "for c in combinations(items, 2):\n",
    "\tprint(c)"
   ]
  },
  {
   "cell_type": "code",
   "execution_count": 31,
   "metadata": {},
   "outputs": [
    {
     "name": "stdout",
     "output_type": "stream",
     "text": [
      "0 a\n",
      "1 b\n",
      "2 c\n"
     ]
    }
   ],
   "source": [
    "my_list = ['a', 'b', 'c']\n",
    "\n",
    "for idx, val in enumerate(my_list):\n",
    "\tprint(idx, val)"
   ]
  },
  {
   "cell_type": "code",
   "execution_count": 1,
   "metadata": {},
   "outputs": [
    {
     "name": "stdout",
     "output_type": "stream",
     "text": [
      "1 a\n",
      "2 b\n",
      "3 c\n",
      "4 d\n",
      "5 e\n"
     ]
    }
   ],
   "source": [
    "xpts = [1,2,3,4,5]\n",
    "ypts = ['a','b','c','d','e']\n",
    "\n",
    "for x, y in zip(xpts, ypts):\n",
    "\tprint(x, y)"
   ]
  },
  {
   "cell_type": "code",
   "execution_count": 2,
   "metadata": {},
   "outputs": [
    {
     "name": "stdout",
     "output_type": "stream",
     "text": [
      "1\n",
      "2\n",
      "3\n",
      "4\n",
      "5\n",
      "a\n",
      "b\n",
      "c\n",
      "d\n",
      "e\n"
     ]
    }
   ],
   "source": [
    "from itertools import chain\n",
    "for x in chain(xpts, ypts):\n",
    "\tprint(x)"
   ]
  },
  {
   "cell_type": "code",
   "execution_count": null,
   "metadata": {},
   "outputs": [],
   "source": [
    "import os\n",
    "import fnmatch\n",
    "import gzip\n",
    "import bz2\n",
    "import re\n",
    "\n",
    "def gen_find(filepat, top):\n",
    "\t'''\n",
    "\tFind all finenames in a dretctory tree that match a shell wildcard pattern\n",
    "\t'''\n",
    "\tfor path, dirlist, filelist in os.walk(top):\n",
    "\t\tfor name in fnmatch.filter(filelist, filepat):\n",
    "\t\t\tyield os.path.join(path, name)\n",
    "\n",
    "def gen_opener(filenames):\n",
    "\t'''\n",
    "\tOpen a sequence of filenames one at a time producing a file object.\n",
    "\tThe file is closed immediately when proceeding to the next iteration.\n",
    "\t'''\n",
    "\tfor filename in filenames:\n",
    "\t\tif filename.endwith('.gz'):\n",
    "\t\t\tf = gzip.open(filename, 'rt')\n",
    "\t\telif filename.endwith('bz2'):\n",
    "\t\t\tf = bz2.open(filename, 'rt')\n",
    "\t\telse:\n",
    "\t\t\tf = open(filename, 'rt')\n",
    "\t\tyield f\n",
    "\t\tf.close()\n",
    "\n",
    "def gen_concatenate(iterators):\n",
    "\t'''\n",
    "\tChain a sequence of iterators together into a single sequence\n",
    "\t'''\n",
    "\tfor it in iterators:\n",
    "\t\tyield from it\n",
    "\n",
    "def gen_grep(pattern, lines):\n",
    "\t'''\n",
    "\tLook for a reges pattern in a sequence of lines\n",
    "\t'''\n",
    "\tpat = re.compile(pattern)\n",
    "\tfor line in lines:\n",
    "\t\tif pat.search(line):\n",
    "\t\t\tyield line\n",
    "\n",
    "# Use of the functions\n",
    "lognames = gen_find('access0-log*', 'www')\n",
    "files = gen_opener(lognames)\n",
    "lines = gen_concatenate(files)\n",
    "pylines = gen_grep('(?i)python', lines)\n",
    "for line in pylines:\n",
    "\tprint(line)\n",
    "\n",
    "\t\n"
   ]
  },
  {
   "cell_type": "code",
   "execution_count": 6,
   "metadata": {},
   "outputs": [
    {
     "name": "stdout",
     "output_type": "stream",
     "text": [
      "1\n",
      "2\n",
      "3\n",
      "4\n",
      "5\n",
      "6\n",
      "7\n",
      "8\n"
     ]
    }
   ],
   "source": [
    "import collections\n",
    "\n",
    "def flatten(items, ignore_types=(str,bytes)):\n",
    "\tfor x in items:\n",
    "\t\tif isinstance(x, collections.Iterable) and not isinstance(x, ignore_types):\n",
    "\t\t\tyield from flatten(x, ignore_types)\n",
    "\t\telse:\n",
    "\t\t\tyield x\n",
    "\n",
    "items = [1, 2, [3, 4, [5,6,], 7],8]\n",
    "\n",
    "for x in flatten(items):\n",
    "\tprint(x)"
   ]
  },
  {
   "cell_type": "code",
   "execution_count": null,
   "metadata": {},
   "outputs": [],
   "source": [
    "CHUNKSIZE = 8192\n",
    "\n",
    "def reader(s):\n",
    "\twhile True:\n",
    "\t\tdata = s.recv(CHUNKSIZE)\n",
    "\t\tif data == b'':\n",
    "\t\t\tbreak\n",
    "\t\tprocess_data(data)\n",
    "\n",
    "\n",
    "def reader(s):\n",
    "\tfor chunk in iter(lambda: s.recv(CHUNKSIZE), b''):\n",
    "\t\tprocess_data(chunk)\n",
    "\n",
    "\t\t"
   ]
  }
 ],
 "metadata": {
  "kernelspec": {
   "display_name": "Python 3.8.11 ('base')",
   "language": "python",
   "name": "python3"
  },
  "language_info": {
   "codemirror_mode": {
    "name": "ipython",
    "version": 3
   },
   "file_extension": ".py",
   "mimetype": "text/x-python",
   "name": "python",
   "nbconvert_exporter": "python",
   "pygments_lexer": "ipython3",
   "version": "3.8.11"
  },
  "orig_nbformat": 4,
  "vscode": {
   "interpreter": {
    "hash": "948fc45e6b544a800bd799d52dda4f797494f20f8b7a6b95f8bc5ef55b9765cd"
   }
  }
 },
 "nbformat": 4,
 "nbformat_minor": 2
}
