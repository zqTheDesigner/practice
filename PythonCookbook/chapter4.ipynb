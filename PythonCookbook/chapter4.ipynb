{
 "cells": [
  {
   "cell_type": "code",
   "execution_count": 4,
   "metadata": {},
   "outputs": [
    {
     "name": "stdout",
     "output_type": "stream",
     "text": [
      "[1, 2, 3, 4]\n",
      "<list_iterator object at 0x10570fb20>\n",
      "1\n",
      "2\n",
      "3\n",
      "4\n"
     ]
    }
   ],
   "source": [
    "items = [1,2,3,4]\n",
    "it = iter(items)\n",
    "print(items)\n",
    "print(it)\n",
    "\n",
    "try :\n",
    "\twhile True:\n",
    "\t\tprint(next(it))\n",
    "except StopIteration:\n",
    "\tpass"
   ]
  },
  {
   "cell_type": "code",
   "execution_count": 5,
   "metadata": {},
   "outputs": [
    {
     "name": "stdout",
     "output_type": "stream",
     "text": [
      "Node(1)\n",
      "Node(2)\n"
     ]
    }
   ],
   "source": [
    "class Node:\n",
    "\tdef __init__(self, value):\n",
    "\t\tself._value = value\n",
    "\t\tself._children = []\n",
    "\n",
    "\tdef __repr__(self):\n",
    "\t\treturn 'Node({!r})'.format(self._value)\n",
    "\n",
    "\tdef add_child(self, node):\n",
    "\t\tself._children.append(node)\n",
    "\n",
    "\tdef __iter__(self):\n",
    "\t\treturn iter(self._children)\n",
    "\n",
    "root = Node(0)\n",
    "child1 = Node(1)\n",
    "child2 = Node(2)\n",
    "\n",
    "root.add_child(child1)\n",
    "root.add_child(child2)\n",
    "\n",
    "for ch in root:\n",
    "\tprint(ch)\n"
   ]
  },
  {
   "cell_type": "code",
   "execution_count": 9,
   "metadata": {},
   "outputs": [
    {
     "data": {
      "text/plain": [
       "[1, 1.3, 1.6, 1.9000000000000001]"
      ]
     },
     "execution_count": 9,
     "metadata": {},
     "output_type": "execute_result"
    }
   ],
   "source": [
    "def frange(start, stop, increment):\n",
    "\tx = start \n",
    "\twhile x < stop:\n",
    "\t\tyield x\n",
    "\t\tx += increment\n",
    "\n",
    "list(frange(1,2,0.3))"
   ]
  }
 ],
 "metadata": {
  "kernelspec": {
   "display_name": "Python 3.8.11 ('base')",
   "language": "python",
   "name": "python3"
  },
  "language_info": {
   "codemirror_mode": {
    "name": "ipython",
    "version": 3
   },
   "file_extension": ".py",
   "mimetype": "text/x-python",
   "name": "python",
   "nbconvert_exporter": "python",
   "pygments_lexer": "ipython3",
   "version": "3.8.11"
  },
  "orig_nbformat": 4,
  "vscode": {
   "interpreter": {
    "hash": "948fc45e6b544a800bd799d52dda4f797494f20f8b7a6b95f8bc5ef55b9765cd"
   }
  }
 },
 "nbformat": 4,
 "nbformat_minor": 2
}
