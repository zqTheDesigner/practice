{
 "cells": [
  {
   "cell_type": "code",
   "execution_count": 6,
   "metadata": {},
   "outputs": [
    {
     "name": "stdout",
     "output_type": "stream",
     "text": [
      "0.7647058823529411764705882353\n",
      "0.765\n"
     ]
    }
   ],
   "source": [
    "from decimal import Decimal, localcontext\n",
    "\n",
    "a = Decimal('1.3')\n",
    "b = Decimal('1.7')\n",
    "\n",
    "print(a/b)\n",
    "\n",
    "with localcontext() as ctx:\n",
    "\tctx.prec = 3\n",
    "\tprint(a/b)"
   ]
  },
  {
   "cell_type": "code",
   "execution_count": 22,
   "metadata": {},
   "outputs": [
    {
     "data": {
      "text/plain": [
       "3"
      ]
     },
     "execution_count": 22,
     "metadata": {},
     "output_type": "execute_result"
    }
   ],
   "source": [
    "nums = [1.23e+16,  1, -1.23e+16]\n",
    "\n",
    "sum(nums)"
   ]
  },
  {
   "cell_type": "code",
   "execution_count": null,
   "metadata": {},
   "outputs": [],
   "source": [
    "x = 1234.56789\n",
    "\n",
    "# Two decimal places of accuracy\n",
    "format(x, '0.2f')\n",
    "\n",
    "# Right justified in 10 charaxters, one digit accuracy\n",
    "format(x, '>10.1f')\n",
    "\n",
    "# Left justified in 10 characters\n",
    "format(x, '<10.1f')\n",
    "\n",
    "# Centered\n",
    "format(x, '^10.1f')\n",
    "\n",
    "# Inclusion of thousands saperator\n",
    "format(x, ',')\n",
    "format(x, '0,.1f')\n",
    "\n",
    "# Use exponential notation\n",
    "format(x,'e')\n",
    "format(x, '0.2E')"
   ]
  },
  {
   "cell_type": "code",
   "execution_count": 3,
   "metadata": {},
   "outputs": [
    {
     "data": {
      "text/plain": [
       "1j"
      ]
     },
     "execution_count": 3,
     "metadata": {},
     "output_type": "execute_result"
    }
   ],
   "source": [
    "import cmath\n",
    "\n",
    "cmath.sqrt(-1)"
   ]
  },
  {
   "cell_type": "code",
   "execution_count": 15,
   "metadata": {},
   "outputs": [
    {
     "name": "stdout",
     "output_type": "stream",
     "text": [
      "6/5\n",
      "7070651414971679/2251799813685248\n"
     ]
    },
    {
     "data": {
      "text/plain": [
       "3.14"
      ]
     },
     "execution_count": 15,
     "metadata": {},
     "output_type": "execute_result"
    }
   ],
   "source": [
    "from fractions import Fraction\n",
    "\n",
    "a = Fraction(3,4)\n",
    "b = Fraction(7,16)\n",
    "\n",
    "c = a + b\n",
    "\n",
    "c.numerator\n",
    "c.denominator\n",
    "\n",
    "print(c.limit_denominator(6))\n",
    "\n",
    "# Converting float to fraction\n",
    "d = 3.14\n",
    "\n",
    "D = Fraction(*d.as_integer_ratio())\n",
    "print(D)\n",
    "\n",
    "# Converting to float \n",
    "float(D)"
   ]
  },
  {
   "cell_type": "code",
   "execution_count": 36,
   "metadata": {},
   "outputs": [
    {
     "name": "stdout",
     "output_type": "stream",
     "text": [
      "[6, 2, 4, 3, 1, 5]\n",
      "[6, 5, 3, 4, 2, 1]\n",
      "[2, 1, 4, 3, 5, 6]\n",
      "[6, 1, 4, 3, 5, 2]\n",
      "[6, 4, 3, 2, 5, 1]\n",
      "[1, 4, 2, 6, 3, 5]\n"
     ]
    }
   ],
   "source": [
    "import random\n",
    "\n",
    "val = [1,2,3,4,5,6]\n",
    "\n",
    "for i in range(len(val)):\n",
    "\tprint(random.sample(val, len(val)))\n"
   ]
  },
  {
   "cell_type": "code",
   "execution_count": 6,
   "metadata": {},
   "outputs": [
    {
     "data": {
      "text/plain": [
       "2916827"
      ]
     },
     "execution_count": 6,
     "metadata": {},
     "output_type": "execute_result"
    }
   ],
   "source": [
    "from datetime import timedelta, datetime\n",
    "\n",
    "a = timedelta(days=1,minutes=10)\n",
    "b = timedelta(hours=24)\n",
    "\n",
    "c= a + b\n",
    "\n",
    "a = datetime(9999,3,1)\n",
    "b = datetime(2013,2,28)\n",
    "\n",
    "c = a - b \n",
    "\n",
    "c.days"
   ]
  }
 ],
 "metadata": {
  "kernelspec": {
   "display_name": "Python 3.8.11 ('base')",
   "language": "python",
   "name": "python3"
  },
  "language_info": {
   "codemirror_mode": {
    "name": "ipython",
    "version": 3
   },
   "file_extension": ".py",
   "mimetype": "text/x-python",
   "name": "python",
   "nbconvert_exporter": "python",
   "pygments_lexer": "ipython3",
   "version": "3.8.11"
  },
  "orig_nbformat": 4,
  "vscode": {
   "interpreter": {
    "hash": "948fc45e6b544a800bd799d52dda4f797494f20f8b7a6b95f8bc5ef55b9765cd"
   }
  }
 },
 "nbformat": 4,
 "nbformat_minor": 2
}
