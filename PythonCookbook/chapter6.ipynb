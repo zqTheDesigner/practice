{
 "cells": [
  {
   "cell_type": "code",
   "execution_count": 8,
   "metadata": {},
   "outputs": [
    {
     "name": "stdout",
     "output_type": "stream",
     "text": [
      "<class '__main__.Row'>\n",
      "Row(Name='Text-To-Speech CHI', Urls='https://raw.githubusercontent.com/sentient-io/microservice-docs/dev/voice/text_to_speech_chi.yaml')\n",
      "Row(Name='Few Shots Object Detection (Dev)', Urls='https://raw.githubusercontent.com/sentient-io/microservice-docs/dev/computer_vision/few_shots_object_detection.yaml')\n",
      "Row(Name='Fleet Routing Engine (Dev)', Urls='https://raw.githubusercontent.com/sentient-io/microservice-docs/dev/analytics/fleet_routing_engine.yaml')\n",
      "Row(Name='Load Planning Engine (Dev)', Urls='https://raw.githubusercontent.com/sentient-io/microservice-docs/dev/analytics/load_planning_engine.yaml')\n",
      "Row(Name='Wikipedia Retrieval', Urls='https://raw.githubusercontent.com/sentient-io/microservice-docs/master/utility/wikipedia.yaml')\n",
      "Row(Name='TTS ENG (wrapper)', Urls='https://raw.githubusercontent.com/sentient-io/microservice-docs/dev/voice/text-to-speech_eng.yaml')\n",
      "Row(Name='HDB Flat Ownership Duration (SG)', Urls='https://raw.githubusercontent.com/sentient-io/microservice-docs/master/data/flat_ownership_hdb_sg.yaml')\n",
      "Row(Name='Text Summarization (Large File)', Urls='https://raw.githubusercontent.com/sentient-io/microservice-docs/master/nlp/text_summarization_large_file.yaml')\n",
      "Row(Name='People Counting (Large File)', Urls='https://raw.githubusercontent.com/sentient-io/microservice-docs/master/computer_vision/people_counting_large_file.yaml')\n",
      "Row(Name='Automatic Speech Recognition ENG (Large File)', Urls='https://raw.githubusercontent.com/sentient-io/microservice-docs/master/voice/automatic_speech_recognition_eng_large_file.yaml')\n"
     ]
    }
   ],
   "source": [
    "import csv\n",
    "from collections import namedtuple\n",
    "\n",
    "with open('test-csv.csv') as f:\n",
    "\tf_csv = csv.reader(f)\n",
    "\theaders = next(f_csv)\n",
    "\tRow = namedtuple('Row', headers)\n",
    "\tprint(Row)\n",
    "\tfor r in f_csv:\n",
    "\t\trow = Row(*r)\n",
    "\t\tprint(row)\n",
    "\t"
   ]
  },
  {
   "cell_type": "code",
   "execution_count": 9,
   "metadata": {},
   "outputs": [],
   "source": [
    "headers = ['Symbol', 'Price', 'Date']\n",
    "rows = [('AA', 39.48, '6/11/2017'), ('BB', 39.48, '6/11/2017'),\n",
    "        ('CC', 39.48, '6/11/2017')]\n",
    "\n",
    "with open('stocks.csv', 'w') as f:\n",
    "\tf_csv = csv.writer(f)\n",
    "\tf_csv.writerow(headers)\n",
    "\tf_csv.writerows(rows)"
   ]
  },
  {
   "cell_type": "code",
   "execution_count": null,
   "metadata": {},
   "outputs": [],
   "source": [
    "col_types = [str, float, str, str, float, int]\n",
    "with open('stocks.csv') as f:\n",
    "\tf_csv = csv.reader(f)\n",
    "\theaders = next(f_csv)\n",
    "\tfor row in f_csv:\n",
    "\t\trow = tuple(convert(value) for convert, value in zip(col_types,row))\n",
    "\n",
    "\n",
    "field_types = [(\"Price\", float), ('Change', float), (\"Volume\", int)]\n",
    "\n",
    "with open('stocks.csv') as f:\n",
    "\tfor row in csv.DictReader(f):\n",
    "\t\trow.update((key, conversion(row[key])) for key, conversion in field_types)\n",
    "\t\tprint(row)"
   ]
  },
  {
   "cell_type": "code",
   "execution_count": 13,
   "metadata": {},
   "outputs": [
    {
     "name": "stdout",
     "output_type": "stream",
     "text": [
      "{\"name\": \"ACME\", \"shares\": 100, \"price\": 543.22}\n",
      "{'name': 'ACME', 'shares': 100, 'price': 543.22}\n"
     ]
    }
   ],
   "source": [
    "import json\n",
    "\n",
    "data = {'name':\"ACME\", 'shares':100, \"price\":543.22}\n",
    "\n",
    "json_str = json.dumps(data)\n",
    "\n",
    "print(json_str)\n",
    "\n",
    "print(data)\n",
    "\n",
    "with open('data.json', 'w') as f:\n",
    "\tjson.dump(data,f)"
   ]
  },
  {
   "cell_type": "code",
   "execution_count": 19,
   "metadata": {},
   "outputs": [
    {
     "name": "stdout",
     "output_type": "stream",
     "text": [
      "{'name': 'ACME', 'shares': 100, 'price': 543.22}\n"
     ]
    }
   ],
   "source": [
    "with open('data.json', 'r') as f:\n",
    "\t# print(f.read())\n",
    "\tprint(json.loads(f.read()))"
   ]
  },
  {
   "cell_type": "code",
   "execution_count": 21,
   "metadata": {},
   "outputs": [
    {
     "name": "stdout",
     "output_type": "stream",
     "text": [
      "{'name': 'ACME', 'shares': 100, 'price': 543.22}\n",
      "OrderedDict([('name', 'ACME'), ('shares', 100), ('price', 543.22)])\n"
     ]
    }
   ],
   "source": [
    "from collections import OrderedDict\n",
    "\n",
    "s = ' {\"name\":\"ACME\", \"shares\":100, \"price\":543.22}'\n",
    "\n",
    "data = json.loads(s, object_pairs_hook=OrderedDict)\n",
    "\n",
    "datas = json.loads(s)\n",
    "\n",
    "print(datas)\n",
    "print(data)\n"
   ]
  },
  {
   "cell_type": "code",
   "execution_count": 22,
   "metadata": {},
   "outputs": [
    {
     "data": {
      "text/plain": [
       "'ACME'"
      ]
     },
     "execution_count": 22,
     "metadata": {},
     "output_type": "execute_result"
    }
   ],
   "source": [
    "class JSONObject :\n",
    "\tdef __init__(self, d):\n",
    "\t\tself.__dict__ = d\n",
    "\n",
    "data = json.loads(s, object_hook=JSONObject)\n",
    "\n",
    "data.name"
   ]
  },
  {
   "cell_type": "code",
   "execution_count": null,
   "metadata": {},
   "outputs": [],
   "source": [
    "from xml.etree.ElementTree import iterparse\n",
    "\n",
    "def parse_and_remove(filename, path):\n",
    "\tpath_parts = path.split('/')\n",
    "\tdoc = iterparse(filename, ('start', 'end'))\n",
    "\t# Skip the root element\n",
    "\tnext(doc)\n",
    "\n",
    "\ttag_stack = []\n",
    "\telem_stack = []\n",
    "\tfor event, elem in doc:\n",
    "\t\tif event == 'start':\n",
    "\t\t\ttag_stack.append(elem.tag)\n",
    "\t\t\telem_stack.append(elem)\n",
    "\t\telif event == 'end':\n",
    "\t\t\tif tag_stack == path_parts:\n",
    "\t\t\t\tyield elem\n",
    "\t\t\t\t# Core part - remove the pareviously yielded element from it's parent\n",
    "\t\t\t\telem_stack[-2].remove(elem)\n",
    "\t\t\ttry:\n",
    "\t\t\t\ttag_stack.pop()\n",
    "\t\t\t\telem_stack.pop()\n",
    "\t\t\texcept IndexError:\n",
    "\t\t\t\tpass"
   ]
  },
  {
   "cell_type": "code",
   "execution_count": null,
   "metadata": {},
   "outputs": [],
   "source": [
    "from collections import Counter\n",
    "\n",
    "potholes_byu_zip = Counter()\n",
    "\n",
    "data = parse_and_remove('potholes.xml', 'row/row')\n",
    "for pathome in data:\n",
    "\tpotholes_byu_zip[pathome.findtext('zip')] += 1\n",
    "\n",
    "for zipcode, num in potholes_byu_zip.most_common():\n",
    "\tprint(zipcode,num)"
   ]
  },
  {
   "cell_type": "code",
   "execution_count": 8,
   "metadata": {},
   "outputs": [],
   "source": [
    "from xml.etree.ElementTree import Element\n",
    "\n",
    "def dict_to_xml(tag, d):\n",
    "\t'''\n",
    "\tTurn a simple dict of key/value in to xml\n",
    "\t'''\n",
    "\n",
    "\telem = Element(tag)\n",
    "\tfor key, val in d.items():\n",
    "\t\tchild = Element(key)\n",
    "\t\tchild.text = str(val)\n",
    "\t\telem.append(child)\n",
    "\n",
    "\treturn elem\n",
    "\n",
    "s = {'name':'Goog', 'shares':100, 'price':490.1}\n",
    "\n",
    "e = dict_to_xml('stock', s)\n",
    "\n",
    "from xml.etree.ElementTree import tostring, ElementTree\n",
    "\n",
    "tostring(e)\n",
    "\n",
    "tree = ElementTree(e)\n",
    "tree.write('elem.xml')"
   ]
  },
  {
   "cell_type": "code",
   "execution_count": 26,
   "metadata": {},
   "outputs": [
    {
     "name": "stdout",
     "output_type": "stream",
     "text": [
      "b'<stock><shares>100</shares><price>490.1</price></stock>'\n",
      "b'<stock><shares>100</shares><price>490.1</price><spam>this is a text</spam></stock>'\n"
     ]
    },
    {
     "name": "stderr",
     "output_type": "stream",
     "text": [
      "/var/folders/bq/df5l25m5389gxcql8x_kd8zc0000gn/T/ipykernel_64956/4009257214.py:12: DeprecationWarning: This method will be removed in future versions.  Use 'list(elem)' or iteration over elem instead.\n",
      "  root.getchildren().index(root.find('shares'))\n"
     ]
    }
   ],
   "source": [
    "from xml.etree.ElementTree import parse, Element\n",
    "\n",
    "doc = parse('elem.xml')\n",
    "root = doc.getroot()\n",
    "\n",
    "root\n",
    "\n",
    "root.remove(root.find('name'))\n",
    "\n",
    "print(tostring(root))\n",
    "\n",
    "root.getchildren().index(root.find('shares'))\n",
    "\n",
    "e = Element('spam')\n",
    "e.text = 'this is a text'\n",
    "\n",
    "root.insert(2, e)\n",
    "\n",
    "print(tostring(root))\n",
    "\n",
    "doc.write('new.xml')\n"
   ]
  },
  {
   "cell_type": "code",
   "execution_count": 34,
   "metadata": {},
   "outputs": [
    {
     "name": "stdout",
     "output_type": "stream",
     "text": [
      "Hello World\n"
     ]
    }
   ],
   "source": [
    "xmls = '<?xml version=\"1.0\" encoding=\"utf-8\"?><top><author>zq</author><html xmlns=\"http://www.w3.org/1999/xhtml\"><head><title>Hello World</title></head></html></top>'\n",
    "\n",
    "import xml.etree.ElementTree as ET\n",
    "\n",
    "from xml.etree.ElementTree import ElementTree\n",
    "\n",
    "root = ET.fromstring(xmls)\n",
    "\n",
    "doc = ElementTree(root)\n",
    "\n",
    "print(doc.findtext('{http://www.w3.org/1999/xhtml}html/{http://www.w3.org/1999/xhtml}head/{http://www.w3.org/1999/xhtml}title'))"
   ]
  },
  {
   "cell_type": "code",
   "execution_count": null,
   "metadata": {},
   "outputs": [],
   "source": [
    "class XMLNamespaces:\n",
    "\tdef __init__(self, **kwargs):\n",
    "\t\tself.namespaces = {}\n",
    "\t\tfor name, uri in kwargs.items():\n",
    "\t\t\tself.register(name, uri)\n",
    "\n",
    "\tdef register(self, name, uri):\n",
    "\t\tself.namespaces[name] = '{'+uri+'}'\n",
    "\n",
    "\tdef __call__(self, path):\n",
    "\t\treturn path.format_map(self.namespaces)\n",
    "\n",
    "\t\t"
   ]
  },
  {
   "cell_type": "code",
   "execution_count": 35,
   "metadata": {},
   "outputs": [
    {
     "name": "stdout",
     "output_type": "stream",
     "text": [
      "start-ns ('html', 'http://www.w3.org/1999/xhtml')\n",
      "end <Element 'author' at 0x107f81c70>\n",
      "end <Element '{http://www.w3.org/1999/xhtml}title' at 0x107f70540>\n",
      "end <Element '{http://www.w3.org/1999/xhtml}head' at 0x107f81ae0>\n",
      "end <Element '{http://www.w3.org/1999/xhtml}html' at 0x107f81f90>\n",
      "end <Element 'top' at 0x107f81590>\n",
      "end-ns None\n"
     ]
    }
   ],
   "source": [
    "from xml.etree.ElementTree import iterparse\n",
    "\n",
    "for evt, elem in iterparse('text.xml', ('end', 'start-ns', 'end-ns')):\n",
    "\tprint(evt, elem)"
   ]
  },
  {
   "cell_type": "code",
   "execution_count": 15,
   "metadata": {},
   "outputs": [],
   "source": [
    "stocks = [\n",
    "\t('GOOG', 100, 490.1),\n",
    "\t('AAPL', 50, 545.75),\n",
    "\t('FB', 150, 7.45),\n",
    "\t('HPQ', 75, 33.2)\n",
    "]\n",
    "\n"
   ]
  },
  {
   "cell_type": "code",
   "execution_count": 2,
   "metadata": {},
   "outputs": [],
   "source": [
    "import sqlite3\n",
    "\n",
    "db = sqlite3.connect('database.db')"
   ]
  },
  {
   "cell_type": "code",
   "execution_count": 13,
   "metadata": {},
   "outputs": [],
   "source": [
    "c = db.cursor()\n",
    "\n",
    "c.execute('create table portfolio(symbol text, shares integer, price real)')\n",
    "\n",
    "db.commit()"
   ]
  },
  {
   "cell_type": "code",
   "execution_count": 16,
   "metadata": {},
   "outputs": [],
   "source": [
    "c.executemany('insert into portfolio values (?,?,?)', stocks)\n",
    "db.commit()"
   ]
  },
  {
   "cell_type": "code",
   "execution_count": 18,
   "metadata": {},
   "outputs": [
    {
     "name": "stdout",
     "output_type": "stream",
     "text": [
      "('GOOG', 100, 490.1)\n",
      "('GOOG', 100, 490.1)\n",
      "('AAPL', 50, 545.75)\n"
     ]
    }
   ],
   "source": [
    "min_price = 100\n",
    "for row in db.execute('select * from portfolio where price >=?', (min_price,)):\n",
    "\tprint(row)"
   ]
  },
  {
   "cell_type": "code",
   "execution_count": 23,
   "metadata": {},
   "outputs": [
    {
     "data": {
      "text/plain": [
       "b'hello'"
      ]
     },
     "execution_count": 23,
     "metadata": {},
     "output_type": "execute_result"
    }
   ],
   "source": [
    "s = b'hello'\n",
    "\n",
    "import binascii\n",
    "h = binascii.b2a_hex(s)\n",
    "h\n",
    "\n",
    "binascii.a2b_hex(h)"
   ]
  },
  {
   "cell_type": "code",
   "execution_count": 24,
   "metadata": {},
   "outputs": [],
   "source": [
    "from struct import Struct\n",
    "\n",
    "def write_records(records, format, f):\n",
    "\t'''\n",
    "\tWrite a sequenxe of tuples to a binary file of strcutures\n",
    "\t'''\n",
    "\trecord_struct = Struct(format)\n",
    "\tfor r in records:\n",
    "\t\tf.write(record_struct.pack(*r))\n",
    "\n",
    "the_records = [(1,2,3), (4,5,6), (7,8,9)]\n",
    "\n",
    "with open('data.b', 'wb') as f:\n",
    "\twrite_records(the_records, '<idd', f)"
   ]
  },
  {
   "cell_type": "code",
   "execution_count": 25,
   "metadata": {},
   "outputs": [
    {
     "name": "stdout",
     "output_type": "stream",
     "text": [
      "(1, 2.0, 3.0)\n",
      "(4, 5.0, 6.0)\n",
      "(7, 8.0, 9.0)\n"
     ]
    }
   ],
   "source": [
    "from struct import Struct\n",
    "\n",
    "def read_records(format, f):\n",
    "\trecord_struct = Struct(format)\n",
    "\tchunks = iter(lambda: f.read(record_struct.size), b'')\n",
    "\treturn (record_struct.unpack(chunk) for chunk in chunks)\n",
    "\n",
    "with open('data.b', 'rb') as f:\n",
    "\tfor rec in read_records('<idd', f):\n",
    "\t\tprint(rec)\n",
    "\n"
   ]
  }
 ],
 "metadata": {
  "kernelspec": {
   "display_name": "Python 3.8.9 64-bit",
   "language": "python",
   "name": "python3"
  },
  "language_info": {
   "codemirror_mode": {
    "name": "ipython",
    "version": 3
   },
   "file_extension": ".py",
   "mimetype": "text/x-python",
   "name": "python",
   "nbconvert_exporter": "python",
   "pygments_lexer": "ipython3",
   "version": "3.8.9"
  },
  "orig_nbformat": 4,
  "vscode": {
   "interpreter": {
    "hash": "31f2aee4e71d21fbe5cf8b01ff0e069b9275f58929596ceb00d14d90e3e16cd6"
   }
  }
 },
 "nbformat": 4,
 "nbformat_minor": 2
}
