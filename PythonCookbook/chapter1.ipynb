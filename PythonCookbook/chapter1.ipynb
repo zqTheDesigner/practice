{
 "cells": [
  {
   "cell_type": "code",
   "execution_count": 12,
   "metadata": {},
   "outputs": [
    {
     "name": "stdout",
     "output_type": "stream",
     "text": [
      "foo 1 2\n",
      "bar hello\n",
      "foo 3 4\n"
     ]
    }
   ],
   "source": [
    "records = [('foo', 1, 2), ('bar', 'hello'), ('foo', 3,4)]\n",
    "\n",
    "def do_foo(x, y):\n",
    "\tprint('foo', x, y)\n",
    "\n",
    "def do_bar(s):\n",
    "\tprint('bar', s)\n",
    "\n",
    "for tag, *args in records:\n",
    "\tif tag == 'foo':\n",
    "\t\tdo_foo(*args)\n",
    "\telif tag =='bar':\n",
    "\t\tdo_bar(*args)\n",
    "\n"
   ]
  },
  {
   "cell_type": "code",
   "execution_count": 13,
   "metadata": {},
   "outputs": [],
   "source": [
    "prices = {\n",
    "\t\"ACME\" : 45.23,\n",
    "\t\"AAPL\": 612.78,\n",
    "\t\"IBM\": 205.22\n",
    "}\n"
   ]
  },
  {
   "cell_type": "code",
   "execution_count": 14,
   "metadata": {},
   "outputs": [
    {
     "name": "stdout",
     "output_type": "stream",
     "text": [
      "[(45.23, 'ACME'), (612.78, 'AAPL'), (205.22, 'IBM')]\n"
     ]
    }
   ],
   "source": [
    "print(list(zip(prices.values(), prices.keys())))"
   ]
  },
  {
   "cell_type": "code",
   "execution_count": null,
   "metadata": {},
   "outputs": [],
   "source": []
  },
  {
   "cell_type": "code",
   "execution_count": 15,
   "metadata": {},
   "outputs": [],
   "source": [
    "a = {\n",
    "\t'x': 1,\n",
    "\t'y':2,\n",
    "\t'z':3\n",
    "}\n",
    "\n",
    "b = {\n",
    "\t'w':10,\n",
    "\t'x':11,\n",
    "\t'y':2\n",
    "}"
   ]
  },
  {
   "cell_type": "code",
   "execution_count": 16,
   "metadata": {},
   "outputs": [
    {
     "data": {
      "text/plain": [
       "{'x', 'y'}"
      ]
     },
     "execution_count": 16,
     "metadata": {},
     "output_type": "execute_result"
    }
   ],
   "source": [
    "a.keys() & b.keys()"
   ]
  },
  {
   "cell_type": "code",
   "execution_count": 17,
   "metadata": {},
   "outputs": [
    {
     "name": "stdout",
     "output_type": "stream",
     "text": [
      "{'x': 1, 'y': 2, 'z': 3}\n",
      "{'z': 3} {'x': 1, 'y': 2, 'z': 5}\n"
     ]
    }
   ],
   "source": [
    "c = {key:a[key] for key in a.keys() - {'x', 'y'}}\n",
    "print(a)\n",
    "a['z'] = 5\n",
    "print(c,a)"
   ]
  },
  {
   "cell_type": "code",
   "execution_count": 18,
   "metadata": {},
   "outputs": [],
   "source": [
    "def dedupe(items):\n",
    "\tseen = set()\n",
    "\tfor item in items:\n",
    "\t\tif item not in seen:\n",
    "\t\t\t# yield item\n",
    "\t\t\tseen.add(item)\n",
    "\treturn seen"
   ]
  },
  {
   "cell_type": "code",
   "execution_count": 19,
   "metadata": {},
   "outputs": [
    {
     "data": {
      "text/plain": [
       "[1, 2, 5, 9, 10]"
      ]
     },
     "execution_count": 19,
     "metadata": {},
     "output_type": "execute_result"
    }
   ],
   "source": [
    "a = [1,5,2,1,9,1,5,10]\n",
    "list(dedupe(a))"
   ]
  },
  {
   "cell_type": "code",
   "execution_count": 20,
   "metadata": {},
   "outputs": [
    {
     "name": "stdout",
     "output_type": "stream",
     "text": [
      "10\n",
      "(5, 10, 2)\n",
      "W\n",
      "r\n",
      "d\n"
     ]
    }
   ],
   "source": [
    "s = 'HelloWorld'\n",
    "a = slice(5, 50, 2)\n",
    "print(len(s))\n",
    "\n",
    "print(a.indices(len(s)))\n",
    "\n",
    "for i in range(*a.indices(len(s))):\n",
    "\tprint(s[i])"
   ]
  },
  {
   "cell_type": "code",
   "execution_count": 21,
   "metadata": {},
   "outputs": [
    {
     "name": "stdout",
     "output_type": "stream",
     "text": [
      "[{'fname': 'Big', 'uid': 1004}, {'fname': 'Brian', 'uid': 1003}, {'fname': 'David', 'uid': 1002}, {'fname': 'John', 'uid': 1001}] \n",
      "\n",
      " [{'fname': 'John', 'uid': 1001}, {'fname': 'David', 'uid': 1002}, {'fname': 'Brian', 'uid': 1003}, {'fname': 'Big', 'uid': 1004}]\n"
     ]
    }
   ],
   "source": [
    "rows = [{'fname':'Brian', 'uid':1003},{'fname':'David', 'uid':1002},{'fname':'John', 'uid':1001}, {'fname':'Big', 'uid':1004}]\n",
    "\n",
    "from operator import itemgetter\n",
    "\n",
    "rows_by_fname=sorted(rows, key=itemgetter('fname'))\n",
    "rows_by_uid = sorted(rows, key=lambda r:r['uid'])\n",
    "\n",
    "print(rows_by_fname,'\\n\\n',rows_by_uid)"
   ]
  },
  {
   "cell_type": "code",
   "execution_count": 22,
   "metadata": {},
   "outputs": [
    {
     "name": "stdout",
     "output_type": "stream",
     "text": [
      "[1, 4, 9, 16, 25]\n",
      "55\n"
     ]
    }
   ],
   "source": [
    "nums = [1,2,3,4,5]\n",
    "s = [ x * x for x in nums]\n",
    "\n",
    "print(s)\n",
    "\n",
    "print(sum(s))"
   ]
  },
  {
   "cell_type": "code",
   "execution_count": 23,
   "metadata": {},
   "outputs": [
    {
     "name": "stdout",
     "output_type": "stream",
     "text": [
      "None\n",
      "11/27/2012\n"
     ]
    }
   ],
   "source": [
    "import re\n",
    "datepat= re.compile(r'(\\d+)/(\\d+)/(\\d+)$')\n",
    "\n",
    "print(datepat.match('11/27/2012abdef'))\n",
    "print(datepat.match('11/27/2012')[0])"
   ]
  },
  {
   "cell_type": "code",
   "execution_count": 24,
   "metadata": {},
   "outputs": [
    {
     "name": "stdout",
     "output_type": "stream",
     "text": [
      "['no.', 'yes.']\n"
     ]
    }
   ],
   "source": [
    "text_pat = re.compile(r'\\\"(.*?)\\\"')\n",
    "\n",
    "text = 'computer says \"no.\", phont says \"yes.\"'\n",
    "\n",
    "print(text_pat.findall(text))"
   ]
  },
  {
   "cell_type": "code",
   "execution_count": 25,
   "metadata": {},
   "outputs": [
    {
     "name": "stdout",
     "output_type": "stream",
     "text": [
      "<re.Match object; span=(0, 3), match='123'>\n",
      "<re.Match object; span=(0, 3), match='١٢٣'>\n"
     ]
    }
   ],
   "source": [
    "import re \n",
    "num = re.compile('\\d+')\n",
    "\n",
    "print(num.match('123'))\n",
    "\n",
    "print(num.match('\\u0661\\u0662\\u0663'))"
   ]
  },
  {
   "cell_type": "code",
   "execution_count": 26,
   "metadata": {},
   "outputs": [
    {
     "data": {
      "text/plain": [
       "'hello'"
      ]
     },
     "execution_count": 26,
     "metadata": {},
     "output_type": "execute_result"
    }
   ],
   "source": [
    "s = '- - = - =hello = - = '\n",
    "\n",
    "s.strip(' -=')"
   ]
  },
  {
   "cell_type": "code",
   "execution_count": 27,
   "metadata": {},
   "outputs": [
    {
     "name": "stdout",
     "output_type": "stream",
     "text": [
      "Token(type='NAME', value='foo')\n",
      "Token(type='WS', value=' ')\n",
      "Token(type='EQ', value='=')\n",
      "Token(type='WS', value=' ')\n",
      "Token(type='NAME', value='x')\n",
      "Token(type='WS', value=' ')\n",
      "Token(type='PLUS', value='+')\n",
      "Token(type='WS', value=' ')\n",
      "Token(type='NUM', value='42')\n",
      "Token(type='WS', value=' ')\n",
      "Token(type='TIMES', value='*')\n",
      "Token(type='WS', value=' ')\n",
      "Token(type='NUM', value='124')\n",
      "Token(type='WS', value=' ')\n",
      "Token(type='PLUS', value='+')\n",
      "Token(type='WS', value=' ')\n",
      "Token(type='NUM', value='3')\n"
     ]
    }
   ],
   "source": [
    "import re \n",
    "NAME = r'(?P<NAME>[a-zA-Z_][a-zA-Z_0-9]*)'\n",
    "NUM = r'(?P<NUM>\\d+)'\n",
    "PLUS = r'(?P<PLUS>\\+)' \n",
    "TIMES = r'(?P<TIMES>\\*)'\n",
    "EQ = r'(?P<EQ>\\=)'\n",
    "WS = r'(?P<WS>\\s+)'\n",
    "\n",
    "master_pat = re.compile('|'.join([NAME, NUM, PLUS, TIMES, EQ, WS]))\n",
    "\n",
    "from collections import namedtuple\n",
    "\n",
    "Token = namedtuple('Token', ['type', 'value'])\n",
    "\n",
    "def generate_tokens(pat, text):\n",
    "\tscanner = pat.scanner(text)\n",
    "\tfor m in iter(scanner.match, None):\n",
    "\t\tyield Token(m.lastgroup, m.group())\n",
    "\n",
    "\n",
    "for tok in generate_tokens(master_pat, 'foo = x + 42 * 124 + 3'):\n",
    "\tprint(tok)"
   ]
  },
  {
   "cell_type": "code",
   "execution_count": 28,
   "metadata": {},
   "outputs": [],
   "source": [
    "PRINT = r'(P<PRINT>print)'\n",
    "NAME = r'(P<NAME>[a-zA-Z_][a-zA-Z_0-9]*)'\n",
    "\n",
    "master_pat = re.compile('|'.join([  PRINT, NAME]))\n",
    "\n",
    "for tok in generate_tokens(master_pat, 'printer'):\n",
    "\tprint(tok)\n",
    "\n"
   ]
  },
  {
   "cell_type": "code",
   "execution_count": 29,
   "metadata": {},
   "outputs": [],
   "source": [
    "import re\n",
    "import collections"
   ]
  },
  {
   "cell_type": "code",
   "execution_count": 30,
   "metadata": {},
   "outputs": [],
   "source": [
    "# Token specification\n",
    "NUM = r'(?P<NUM>\\d+})'\n",
    "PLUS = r'(?P<PLUS>\\+)'\n",
    "MINUS = r'(?P<MINUS>-)'\n",
    "TIMES = r'(?P<TIMES>\\*)'\n",
    "DIVIDE = r'(?P<DIVIDE>/)'\n",
    "LPAREN = r'(?P<LPAREN>\\()'\n",
    "RPAREN = r'(?P<RPAREN>\\))'\n",
    "WS = r'(?P<WS>\\s+)'\n",
    "\n",
    "master_pat = re.compile('|'.join([NUM, PLUS, MINUS, TIMES, DIVIDE, LPAREN, RPAREN, WS]))\n",
    "\n",
    "# Tokenizer\n",
    "Token = collections.namedtuple('Token', ['type', 'value'])\n",
    "\n",
    "def generate_tokens(text):\n",
    "\tscanner = master_pat.scanner(text)\n",
    "\tfor m in iter(scanner.match, None):\n",
    "\t\ttok = Token(m.lastgroup, m.group())\n",
    "\t\tif tok.type != 'WS':\n",
    "\t\t\tyield tok"
   ]
  },
  {
   "cell_type": "code",
   "execution_count": 34,
   "metadata": {},
   "outputs": [
    {
     "name": "stdout",
     "output_type": "stream",
     "text": [
      "<generator object generate_tokens at 0x1069ed120>\n"
     ]
    }
   ],
   "source": [
    "\n",
    "\t"
   ]
  }
 ],
 "metadata": {
  "interpreter": {
   "hash": "31f2aee4e71d21fbe5cf8b01ff0e069b9275f58929596ceb00d14d90e3e16cd6"
  },
  "kernelspec": {
   "display_name": "Python 3.8.9 64-bit",
   "language": "python",
   "name": "python3"
  },
  "language_info": {
   "codemirror_mode": {
    "name": "ipython",
    "version": 3
   },
   "file_extension": ".py",
   "mimetype": "text/x-python",
   "name": "python",
   "nbconvert_exporter": "python",
   "pygments_lexer": "ipython3",
   "version": "3.9.10"
  },
  "orig_nbformat": 4
 },
 "nbformat": 4,
 "nbformat_minor": 2
}
