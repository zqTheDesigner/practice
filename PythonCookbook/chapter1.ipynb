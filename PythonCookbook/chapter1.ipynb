{
 "cells": [
  {
   "cell_type": "code",
   "execution_count": 12,
   "metadata": {},
   "outputs": [
    {
     "name": "stdout",
     "output_type": "stream",
     "text": [
      "foo 1 2\n",
      "bar hello\n",
      "foo 3 4\n"
     ]
    }
   ],
   "source": [
    "records = [('foo', 1, 2), ('bar', 'hello'), ('foo', 3,4)]\n",
    "\n",
    "def do_foo(x, y):\n",
    "\tprint('foo', x, y)\n",
    "\n",
    "def do_bar(s):\n",
    "\tprint('bar', s)\n",
    "\n",
    "for tag, *args in records:\n",
    "\tif tag == 'foo':\n",
    "\t\tdo_foo(*args)\n",
    "\telif tag =='bar':\n",
    "\t\tdo_bar(*args)\n",
    "\n"
   ]
  },
  {
   "cell_type": "code",
   "execution_count": 13,
   "metadata": {},
   "outputs": [],
   "source": [
    "prices = {\n",
    "\t\"ACME\" : 45.23,\n",
    "\t\"AAPL\": 612.78,\n",
    "\t\"IBM\": 205.22\n",
    "}\n"
   ]
  },
  {
   "cell_type": "code",
   "execution_count": 14,
   "metadata": {},
   "outputs": [
    {
     "name": "stdout",
     "output_type": "stream",
     "text": [
      "[(45.23, 'ACME'), (612.78, 'AAPL'), (205.22, 'IBM')]\n"
     ]
    }
   ],
   "source": [
    "print(list(zip(prices.values(), prices.keys())))"
   ]
  },
  {
   "cell_type": "code",
   "execution_count": null,
   "metadata": {},
   "outputs": [],
   "source": []
  },
  {
   "cell_type": "code",
   "execution_count": 15,
   "metadata": {},
   "outputs": [],
   "source": [
    "a = {\n",
    "\t'x': 1,\n",
    "\t'y':2,\n",
    "\t'z':3\n",
    "}\n",
    "\n",
    "b = {\n",
    "\t'w':10,\n",
    "\t'x':11,\n",
    "\t'y':2\n",
    "}"
   ]
  },
  {
   "cell_type": "code",
   "execution_count": 16,
   "metadata": {},
   "outputs": [
    {
     "data": {
      "text/plain": [
       "{'x', 'y'}"
      ]
     },
     "execution_count": 16,
     "metadata": {},
     "output_type": "execute_result"
    }
   ],
   "source": [
    "a.keys() & b.keys()"
   ]
  },
  {
   "cell_type": "code",
   "execution_count": 17,
   "metadata": {},
   "outputs": [
    {
     "name": "stdout",
     "output_type": "stream",
     "text": [
      "{'x': 1, 'y': 2, 'z': 3}\n",
      "{'z': 3} {'x': 1, 'y': 2, 'z': 5}\n"
     ]
    }
   ],
   "source": [
    "c = {key:a[key] for key in a.keys() - {'x', 'y'}}\n",
    "print(a)\n",
    "a['z'] = 5\n",
    "print(c,a)"
   ]
  },
  {
   "cell_type": "code",
   "execution_count": 18,
   "metadata": {},
   "outputs": [],
   "source": [
    "def dedupe(items):\n",
    "\tseen = set()\n",
    "\tfor item in items:\n",
    "\t\tif item not in seen:\n",
    "\t\t\t# yield item\n",
    "\t\t\tseen.add(item)\n",
    "\treturn seen"
   ]
  },
  {
   "cell_type": "code",
   "execution_count": 19,
   "metadata": {},
   "outputs": [
    {
     "data": {
      "text/plain": [
       "[1, 2, 5, 9, 10]"
      ]
     },
     "execution_count": 19,
     "metadata": {},
     "output_type": "execute_result"
    }
   ],
   "source": [
    "a = [1,5,2,1,9,1,5,10]\n",
    "list(dedupe(a))"
   ]
  },
  {
   "cell_type": "code",
   "execution_count": 20,
   "metadata": {},
   "outputs": [
    {
     "name": "stdout",
     "output_type": "stream",
     "text": [
      "10\n",
      "(5, 10, 2)\n",
      "W\n",
      "r\n",
      "d\n"
     ]
    }
   ],
   "source": [
    "s = 'HelloWorld'\n",
    "a = slice(5, 50, 2)\n",
    "print(len(s))\n",
    "\n",
    "print(a.indices(len(s)))\n",
    "\n",
    "for i in range(*a.indices(len(s))):\n",
    "\tprint(s[i])"
   ]
  },
  {
   "cell_type": "code",
   "execution_count": 21,
   "metadata": {},
   "outputs": [
    {
     "name": "stdout",
     "output_type": "stream",
     "text": [
      "[{'fname': 'Big', 'uid': 1004}, {'fname': 'Brian', 'uid': 1003}, {'fname': 'David', 'uid': 1002}, {'fname': 'John', 'uid': 1001}] \n",
      "\n",
      " [{'fname': 'John', 'uid': 1001}, {'fname': 'David', 'uid': 1002}, {'fname': 'Brian', 'uid': 1003}, {'fname': 'Big', 'uid': 1004}]\n"
     ]
    }
   ],
   "source": [
    "rows = [{'fname':'Brian', 'uid':1003},{'fname':'David', 'uid':1002},{'fname':'John', 'uid':1001}, {'fname':'Big', 'uid':1004}]\n",
    "\n",
    "from operator import itemgetter\n",
    "\n",
    "rows_by_fname=sorted(rows, key=itemgetter('fname'))\n",
    "rows_by_uid = sorted(rows, key=lambda r:r['uid'])\n",
    "\n",
    "print(rows_by_fname,'\\n\\n',rows_by_uid)"
   ]
  },
  {
   "cell_type": "code",
   "execution_count": 22,
   "metadata": {},
   "outputs": [
    {
     "name": "stdout",
     "output_type": "stream",
     "text": [
      "[1, 4, 9, 16, 25]\n",
      "55\n"
     ]
    }
   ],
   "source": [
    "nums = [1,2,3,4,5]\n",
    "s = [ x * x for x in nums]\n",
    "\n",
    "print(s)\n",
    "\n",
    "print(sum(s))"
   ]
  },
  {
   "cell_type": "code",
   "execution_count": 23,
   "metadata": {},
   "outputs": [
    {
     "name": "stdout",
     "output_type": "stream",
     "text": [
      "None\n",
      "11/27/2012\n"
     ]
    }
   ],
   "source": [
    "import re\n",
    "datepat= re.compile(r'(\\d+)/(\\d+)/(\\d+)$')\n",
    "\n",
    "print(datepat.match('11/27/2012abdef'))\n",
    "print(datepat.match('11/27/2012')[0])"
   ]
  },
  {
   "cell_type": "code",
   "execution_count": 24,
   "metadata": {},
   "outputs": [
    {
     "name": "stdout",
     "output_type": "stream",
     "text": [
      "['no.', 'yes.']\n"
     ]
    }
   ],
   "source": [
    "text_pat = re.compile(r'\\\"(.*?)\\\"')\n",
    "\n",
    "text = 'computer says \"no.\", phont says \"yes.\"'\n",
    "\n",
    "print(text_pat.findall(text))"
   ]
  },
  {
   "cell_type": "code",
   "execution_count": 25,
   "metadata": {},
   "outputs": [
    {
     "name": "stdout",
     "output_type": "stream",
     "text": [
      "<re.Match object; span=(0, 3), match='123'>\n",
      "<re.Match object; span=(0, 3), match='١٢٣'>\n"
     ]
    }
   ],
   "source": [
    "import re \n",
    "num = re.compile('\\d+')\n",
    "\n",
    "print(num.match('123'))\n",
    "\n",
    "print(num.match('\\u0661\\u0662\\u0663'))"
   ]
  },
  {
   "cell_type": "code",
   "execution_count": 26,
   "metadata": {},
   "outputs": [
    {
     "data": {
      "text/plain": [
       "'hello'"
      ]
     },
     "execution_count": 26,
     "metadata": {},
     "output_type": "execute_result"
    }
   ],
   "source": [
    "s = '- - = - =hello = - = '\n",
    "\n",
    "s.strip(' -=')"
   ]
  },
  {
   "cell_type": "code",
   "execution_count": 27,
   "metadata": {},
   "outputs": [
    {
     "name": "stdout",
     "output_type": "stream",
     "text": [
      "Token(type='NAME', value='foo')\n",
      "Token(type='WS', value=' ')\n",
      "Token(type='EQ', value='=')\n",
      "Token(type='WS', value=' ')\n",
      "Token(type='NAME', value='x')\n",
      "Token(type='WS', value=' ')\n",
      "Token(type='PLUS', value='+')\n",
      "Token(type='WS', value=' ')\n",
      "Token(type='NUM', value='42')\n",
      "Token(type='WS', value=' ')\n",
      "Token(type='TIMES', value='*')\n",
      "Token(type='WS', value=' ')\n",
      "Token(type='NUM', value='124')\n",
      "Token(type='WS', value=' ')\n",
      "Token(type='PLUS', value='+')\n",
      "Token(type='WS', value=' ')\n",
      "Token(type='NUM', value='3')\n"
     ]
    }
   ],
   "source": [
    "import re \n",
    "NAME = r'(?P<NAME>[a-zA-Z_][a-zA-Z_0-9]*)'\n",
    "NUM = r'(?P<NUM>\\d+)'\n",
    "PLUS = r'(?P<PLUS>\\+)' \n",
    "TIMES = r'(?P<TIMES>\\*)'\n",
    "EQ = r'(?P<EQ>\\=)'\n",
    "WS = r'(?P<WS>\\s+)'\n",
    "\n",
    "master_pat = re.compile('|'.join([NAME, NUM, PLUS, TIMES, EQ, WS]))\n",
    "\n",
    "from collections import namedtuple\n",
    "\n",
    "Token = namedtuple('Token', ['type', 'value'])\n",
    "\n",
    "def generate_tokens(pat, text):\n",
    "\tscanner = pat.scanner(text)\n",
    "\tfor m in iter(scanner.match, None):\n",
    "\t\tyield Token(m.lastgroup, m.group())\n",
    "\n",
    "\n",
    "for tok in generate_tokens(master_pat, 'foo = x + 42 * 124 + 3'):\n",
    "\tprint(tok)"
   ]
  },
  {
   "cell_type": "code",
   "execution_count": 37,
   "metadata": {},
   "outputs": [
    {
     "ename": "TypeError",
     "evalue": "generate_tokens() takes 1 positional argument but 2 were given",
     "output_type": "error",
     "traceback": [
      "\u001b[0;31m---------------------------------------------------------------------------\u001b[0m",
      "\u001b[0;31mTypeError\u001b[0m                                 Traceback (most recent call last)",
      "\u001b[0;32m/var/folders/bq/df5l25m5389gxcql8x_kd8zc0000gn/T/ipykernel_23169/1297236641.py\u001b[0m in \u001b[0;36m<module>\u001b[0;34m\u001b[0m\n\u001b[1;32m      4\u001b[0m \u001b[0mmaster_pat\u001b[0m \u001b[0;34m=\u001b[0m \u001b[0mre\u001b[0m\u001b[0;34m.\u001b[0m\u001b[0mcompile\u001b[0m\u001b[0;34m(\u001b[0m\u001b[0;34m'|'\u001b[0m\u001b[0;34m.\u001b[0m\u001b[0mjoin\u001b[0m\u001b[0;34m(\u001b[0m\u001b[0;34m[\u001b[0m  \u001b[0mPRINT\u001b[0m\u001b[0;34m,\u001b[0m \u001b[0mNAME\u001b[0m\u001b[0;34m]\u001b[0m\u001b[0;34m)\u001b[0m\u001b[0;34m)\u001b[0m\u001b[0;34m\u001b[0m\u001b[0;34m\u001b[0m\u001b[0m\n\u001b[1;32m      5\u001b[0m \u001b[0;34m\u001b[0m\u001b[0m\n\u001b[0;32m----> 6\u001b[0;31m \u001b[0;32mfor\u001b[0m \u001b[0mtok\u001b[0m \u001b[0;32min\u001b[0m \u001b[0mgenerate_tokens\u001b[0m\u001b[0;34m(\u001b[0m\u001b[0mmaster_pat\u001b[0m\u001b[0;34m,\u001b[0m \u001b[0;34m'printer'\u001b[0m\u001b[0;34m)\u001b[0m\u001b[0;34m:\u001b[0m\u001b[0;34m\u001b[0m\u001b[0;34m\u001b[0m\u001b[0m\n\u001b[0m\u001b[1;32m      7\u001b[0m         \u001b[0mprint\u001b[0m\u001b[0;34m(\u001b[0m\u001b[0mtok\u001b[0m\u001b[0;34m)\u001b[0m\u001b[0;34m\u001b[0m\u001b[0;34m\u001b[0m\u001b[0m\n\u001b[1;32m      8\u001b[0m \u001b[0;34m\u001b[0m\u001b[0m\n",
      "\u001b[0;31mTypeError\u001b[0m: generate_tokens() takes 1 positional argument but 2 were given"
     ]
    }
   ],
   "source": [
    "PRINT = r'(P<PRINT>print)'\n",
    "NAME = r'(P<NAME>[a-zA-Z_][a-zA-Z_0-9]*)'\n",
    "\n",
    "master_pat = re.compile('|'.join([  PRINT, NAME]))\n",
    "\n",
    "for tok in generate_tokens(master_pat, 'printer'):\n",
    "\tprint(tok)\n",
    "\n"
   ]
  },
  {
   "cell_type": "code",
   "execution_count": 41,
   "metadata": {},
   "outputs": [],
   "source": [
    "import re\n",
    "import collections"
   ]
  },
  {
   "cell_type": "code",
   "execution_count": 42,
   "metadata": {},
   "outputs": [],
   "source": [
    "# Token specification\n",
    "# Named capture group: \n",
    "# https://stackoverflow.com/questions/7988942/what-does-this-django-regular-expression-mean-p#:~:text=P%20is%20a%20named%20capturing,to%20an%20unnamed%20capturing%20group.&text=library%2Fre.html-,(%3F,the%20symbolic%20group%20name%20name.\n",
    "NUM = r'(?P<NUM>\\d+)'\n",
    "PLUS = r'(?P<PLUS>\\+)'\n",
    "MINUS = r'(?P<MINUS>-)'\n",
    "TIMES = r'(?P<TIMES>\\*)'\n",
    "DIVIDE = r'(?P<DIVIDE>/)'\n",
    "LPAREN = r'(?P<LPAREN>\\()'\n",
    "RPAREN = r'(?P<RPAREN>\\))'\n",
    "WS = r'(?P<WS>\\s+)'\n",
    "\n",
    "master_pat = re.compile('|'.join([NUM, PLUS, MINUS, TIMES, DIVIDE, LPAREN, RPAREN, WS]))\n",
    "\n",
    "# Tokenizer\n",
    "Token = collections.namedtuple('Token', ['type', 'value'])\n",
    "\n",
    "def generate_tokens(text):\n",
    "\tscanner = master_pat.scanner(text)\n",
    "\tfor m in iter(scanner.match, None):\n",
    "\t\ttok = Token(m.lastgroup, m.group())\n",
    "\t\tif tok.type != 'WS':\n",
    "\t\t\tyield tok"
   ]
  },
  {
   "cell_type": "code",
   "execution_count": 45,
   "metadata": {},
   "outputs": [
    {
     "name": "stdout",
     "output_type": "stream",
     "text": [
      "Token(type='NUM', value='1')\n",
      "Token(type='PLUS', value='+')\n",
      "Token(type='NUM', value='2')\n",
      "Token(type='PLUS', value='+')\n",
      "Token(type='NUM', value='3')\n",
      "Token(type='TIMES', value='*')\n",
      "Token(type='LPAREN', value='(')\n",
      "Token(type='NUM', value='7')\n",
      "Token(type='DIVIDE', value='/')\n",
      "Token(type='NUM', value='4')\n",
      "Token(type='RPAREN', value=')')\n"
     ]
    }
   ],
   "source": [
    "for tok in generate_tokens('1 + 2 + 3 * ( 7/4)'):\n",
    "\tprint(tok)\n"
   ]
  },
  {
   "cell_type": "code",
   "execution_count": 43,
   "metadata": {},
   "outputs": [],
   "source": [
    "# Parser\n",
    "class ExpressionEvaluator:\n",
    "\t'''\n",
    "\tImplemention of a recursive descent parser. Each method implements a single grammaer rule. Use the ._accept() method to test and accept the current lookahead token. Use the ._expect method to exactly match and discard the next token on the input (or raise a SyntaxError if it doesn't match)\n",
    "\t'''\n",
    "\n",
    "\tdef parse(self, text):\n",
    "\t\t# Generate a lis of tokens \n",
    "\t\tself.tokens = generate_tokens(text)  \n",
    "\t\t# Init last tok and next tok\n",
    "\t\tself.tok = None  \t\t\t\t# Last symbol consumed\n",
    "\t\tself.nexttok = None     # Next symbol tokenized\n",
    "\n",
    "\t\tself._advance()         # Load first lookahead token\n",
    "\n",
    "\t\treturn self.expr()     \n",
    "\n",
    "\tdef _advance(self):\n",
    "\t\t'Adcance one token ahead'\n",
    "\t\t# Each time calling next(), will gret the next name tuple in the generate_tokens list\n",
    "\t\tself.tok, self.nexttok = self.nexttok, next(self.tokens, None)\n",
    "\n",
    "\tdef _accept(self, toktype):\n",
    "\t\t'Test and consume the next token if it matches toktype'\n",
    "\t\tif self.nexttok and self.nexttok.type == toktype:\n",
    "\t\t\tself._advance()\n",
    "\t\t\treturn True\n",
    "\t\telse:\n",
    "\t\t\treturn False\n",
    "\n",
    "\tdef _expect(self, toktype):\n",
    "\t\t'Consume next token if it matches toktype or raise SyntaxError'\n",
    "\t\tif not self._accept(toktype):\n",
    "\t\t\traise SyntaxError('Expected ' + toktype)\n",
    "\n",
    "\t# Grammar rules to follow\n",
    "\n",
    "\tdef expr(self):\n",
    "\t\t\"expression ::= term {('+'|'-') term}*\"\n",
    "\n",
    "\t\texprval = self.term()\n",
    "\t\twhile self._accept('PLUS') or self._accept('MINUS'):\n",
    "\t\t\top = self.tok.type\n",
    "\t\t\tright = self.term()\n",
    "\t\t\tif op == 'PLUS':\n",
    "\t\t\t\texprval += right\n",
    "\t\t\telif op == 'MINUS':\n",
    "\t\t\t\texprval -= right\n",
    "\t\treturn exprval\n",
    "\n",
    "\tdef term(self):\n",
    "\t\t\"term ::= factor {('*'|'/') factor}*\"\n",
    "\n",
    "\t\ttermval = self.factor()\n",
    "\t\twhile self._accept('TIMES') or self._accept('DIVIDE'):\n",
    "\t\t\top = self.tok.type\n",
    "\t\t\tright = self.factor()\n",
    "\t\t\tif op == 'TIMES':\n",
    "\t\t\t\ttermval *= right\n",
    "\t\t\telif op == 'DIVIDE':\n",
    "\t\t\t\ttermval /= right\n",
    "\t\treturn termval\n",
    "\t\n",
    "\tdef factor(self):\n",
    "\t\t\"factor ::= NUM | (expr)\"\n",
    "\n",
    "\t\tif self._accept('NUM'):\n",
    "\t\t\treturn int(self.tok.value)\n",
    "\t\telif self._accept('LPAREN'):\n",
    "\t\t\texprval = self.expr()\n",
    "\t\t\tself._expect('RPAREN')\n",
    "\t\t\treturn exprval\n",
    "\t\telse:\n",
    "\t\t\traise SyntaxError('Expected NUMBER or LPAREN')"
   ]
  },
  {
   "cell_type": "code",
   "execution_count": 44,
   "metadata": {},
   "outputs": [
    {
     "data": {
      "text/plain": [
       "5"
      ]
     },
     "execution_count": 44,
     "metadata": {},
     "output_type": "execute_result"
    }
   ],
   "source": [
    "e = ExpressionEvaluator()\n",
    "e.parse('3+2')"
   ]
  }
 ],
 "metadata": {
  "interpreter": {
   "hash": "31f2aee4e71d21fbe5cf8b01ff0e069b9275f58929596ceb00d14d90e3e16cd6"
  },
  "kernelspec": {
   "display_name": "Python 3.8.9 64-bit",
   "language": "python",
   "name": "python3"
  },
  "language_info": {
   "codemirror_mode": {
    "name": "ipython",
    "version": 3
   },
   "file_extension": ".py",
   "mimetype": "text/x-python",
   "name": "python",
   "nbconvert_exporter": "python",
   "pygments_lexer": "ipython3",
   "version": "3.8.9"
  },
  "orig_nbformat": 4
 },
 "nbformat": 4,
 "nbformat_minor": 2
}
