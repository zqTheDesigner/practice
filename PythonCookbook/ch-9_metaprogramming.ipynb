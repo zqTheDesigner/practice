{
 "cells": [
  {
   "cell_type": "code",
   "execution_count": 1,
   "metadata": {},
   "outputs": [
    {
     "name": "stdout",
     "output_type": "stream",
     "text": [
      "countdown 0.00020456314086914062\n"
     ]
    }
   ],
   "source": [
    "import time\n",
    "from functools import wraps\n",
    "\n",
    "def timethis(func):\n",
    "\t'''\n",
    "\tDecorator that reports the execution time. \n",
    "\t'''\n",
    "\n",
    "\t@wraps(func)\n",
    "\tdef wrapper(*args, **kwargs):\n",
    "\t\tstart = time.time()\n",
    "\t\tresult = func(*args, **kwargs)\n",
    "\t\tend = time.time()\n",
    "\t\tprint(func.__name__, end-start)\n",
    "\t\treturn result\n",
    "\treturn wrapper\n",
    "\n",
    "@timethis\n",
    "def countdown(n):\n",
    "\t'''\n",
    "\tCount down\n",
    "\t'''\n",
    "\twhile n > 0:\n",
    "\t\tn -= 1\n",
    "\n",
    "countdown(1000)"
   ]
  },
  {
   "cell_type": "code",
   "execution_count": 3,
   "metadata": {},
   "outputs": [
    {
     "name": "stdout",
     "output_type": "stream",
     "text": [
      "Decorator 1\n",
      "Decorator 2\n",
      "Decorator 2\n"
     ]
    },
    {
     "data": {
      "text/plain": [
       "5"
      ]
     },
     "execution_count": 3,
     "metadata": {},
     "output_type": "execute_result"
    }
   ],
   "source": [
    "from functools import wraps\n",
    "\n",
    "def decorator1(func):\n",
    "\t@wraps(func)\n",
    "\tdef wrapper(*args, **kwargs):\n",
    "\t\tprint('Decorator 1')\n",
    "\t\treturn func(*args, **kwargs)\n",
    "\treturn wrapper\n",
    "\n",
    "def decorator2(func):\n",
    "\t@wraps(func)\n",
    "\tdef wrapper(*args, **kwargs):\n",
    "\t\tprint('Decorator 2')\n",
    "\t\treturn func(*args, **kwargs)\n",
    "\treturn wrapper\n",
    "\n",
    "@decorator1\n",
    "@decorator2\n",
    "def add(x, y):\n",
    "\treturn x + y\n",
    "\n",
    "add(2,3)\n",
    "\n",
    "add.__wrapped__(2,3)"
   ]
  },
  {
   "cell_type": "code",
   "execution_count": 15,
   "metadata": {},
   "outputs": [],
   "source": [
    "from functools import wraps\n",
    "import logging\n",
    "\n",
    "def logged(level, name=None, message=None):\n",
    "\t'''\n",
    "\tAdd logging to a function. Level is the logging\n",
    "\tlevel, name is the logger name and message arn't \n",
    "\tspecified. They Default to function's module nae. \n",
    "\t'''\n",
    "\tdef decorate(func):\n",
    "\t\tlogname = name if name else func.__module__\n",
    "\t\tlog = logging.getLogger(logname)\n",
    "\t\tlogmsg = message if message else func.__name__\n",
    "\n",
    "\t\t@wraps(func)\n",
    "\t\tdef wrapper(*args, **kwargs):\n",
    "\t\t\tlog.log(level, logmsg)\n",
    "\t\t\treturn func(*args, **kwargs)\n",
    "\t\treturn wrapper\n",
    "\treturn decorate\n"
   ]
  },
  {
   "cell_type": "code",
   "execution_count": 16,
   "metadata": {},
   "outputs": [
    {
     "data": {
      "text/plain": [
       "3"
      ]
     },
     "execution_count": 16,
     "metadata": {},
     "output_type": "execute_result"
    }
   ],
   "source": [
    "@logged(logging.DEBUG)\n",
    "def add(x=1, y=1):\n",
    "\treturn x + y\n",
    "\n",
    "add(1,2)"
   ]
  },
  {
   "cell_type": "code",
   "execution_count": 18,
   "metadata": {},
   "outputs": [],
   "source": [
    "from functools import wraps, partial\n",
    "import logging\n",
    "\n",
    "# Utility decorator to attach a function as a attribute of obj\n",
    "def attach_wrapper(obj, func=None):\n",
    "\tif func is None:\n",
    "\t\treturn partial(attach_wrapper,  obj)\n",
    "\tsetattr(obj, func.__name__, func)\n",
    "\treturn func\n",
    "\n",
    "def logged(level, name=None, message=None):\n",
    "\t'''\n",
    "\tAdd logging to a function\n",
    "\t'''\n",
    "\n",
    "\tdef decorate(func):\n",
    "\t\tlogname = name if name else func.__module__\n",
    "\t\tlog = logging.getLogger(logname)\n",
    "\t\tlogmsg = message if message else func.__name__\n",
    "\n",
    "\t\t@wraps(func)\n",
    "\t\tdef wrapper(*args, **kwargs):\n",
    "\t\t\tlog.log(level, logmsg)\n",
    "\t\t\treturn func(*args, **kwargs)\n",
    "\n",
    "\t\t# Attach setter fuctions\n",
    "\t\t@attach_wrapper(wrapper)\n",
    "\t\tdef set_level(newlevel):\n",
    "\t\t\tnonlocal level\n",
    "\t\t\tlevle = newlevel\n",
    "\n",
    "\t\t@attach_wrapper(wrapper)\n",
    "\t\tdef set_message(newmsg):\n",
    "\t\t\tnonlocal logmsg\n",
    "\t\t\tlomsg = newmsg\n",
    "\n",
    "\t\treturn wrapper\n",
    "\treturn decorate\n",
    "\n",
    "\t"
   ]
  },
  {
   "cell_type": "code",
   "execution_count": 23,
   "metadata": {},
   "outputs": [
    {
     "data": {
      "text/plain": [
       "0.7228915662650601"
      ]
     },
     "execution_count": 23,
     "metadata": {},
     "output_type": "execute_result"
    }
   ],
   "source": [
    "@logged(logging.DEBUG)\n",
    "def add(a,b):\n",
    "\treturn a / b\n",
    "\n",
    "add(3,4.15)"
   ]
  }
 ],
 "metadata": {
  "kernelspec": {
   "display_name": "Python 3.9.2 64-bit",
   "language": "python",
   "name": "python3"
  },
  "language_info": {
   "codemirror_mode": {
    "name": "ipython",
    "version": 3
   },
   "file_extension": ".py",
   "mimetype": "text/x-python",
   "name": "python",
   "nbconvert_exporter": "python",
   "pygments_lexer": "ipython3",
   "version": "3.9.2"
  },
  "orig_nbformat": 4,
  "vscode": {
   "interpreter": {
    "hash": "916dbcbb3f70747c44a77c7bcd40155683ae19c65e1c03b4aa3499c5328201f1"
   }
  }
 },
 "nbformat": 4,
 "nbformat_minor": 2
}
