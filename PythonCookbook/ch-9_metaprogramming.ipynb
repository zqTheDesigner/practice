{
 "cells": [
  {
   "cell_type": "code",
   "execution_count": 1,
   "metadata": {},
   "outputs": [
    {
     "name": "stdout",
     "output_type": "stream",
     "text": [
      "countdown 3.314018249511719e-05\n"
     ]
    }
   ],
   "source": [
    "import time\n",
    "from functools import wraps\n",
    "\n",
    "def timethis(func):\n",
    "\t'''\n",
    "\tDecorator that reports the execution time. \n",
    "\t'''\n",
    "\n",
    "\t@wraps(func)\n",
    "\tdef wrapper(*args, **kwargs):\n",
    "\t\tstart = time.time()\n",
    "\t\tresult = func(*args, **kwargs)\n",
    "\t\tend = time.time()\n",
    "\t\tprint(func.__name__, end-start)\n",
    "\t\treturn result\n",
    "\treturn wrapper\n",
    "\n",
    "@timethis\n",
    "def countdown(n):\n",
    "\t'''\n",
    "\tCount down\n",
    "\t'''\n",
    "\twhile n > 0:\n",
    "\t\tn -= 1\n",
    "\n",
    "countdown(1000)"
   ]
  }
 ],
 "metadata": {
  "kernelspec": {
   "display_name": "Python 3.10.4 64-bit",
   "language": "python",
   "name": "python3"
  },
  "language_info": {
   "codemirror_mode": {
    "name": "ipython",
    "version": 3
   },
   "file_extension": ".py",
   "mimetype": "text/x-python",
   "name": "python",
   "nbconvert_exporter": "python",
   "pygments_lexer": "ipython3",
   "version": "3.10.4"
  },
  "orig_nbformat": 4,
  "vscode": {
   "interpreter": {
    "hash": "31f2aee4e71d21fbe5cf8b01ff0e069b9275f58929596ceb00d14d90e3e16cd6"
   }
  }
 },
 "nbformat": 4,
 "nbformat_minor": 2
}
