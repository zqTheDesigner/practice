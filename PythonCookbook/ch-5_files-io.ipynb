{
 "cells": [
  {
   "cell_type": "code",
   "execution_count": 28,
   "metadata": {},
   "outputs": [
    {
     "name": "stdout",
     "output_type": "stream",
     "text": [
      "some other textsome other textsome other text\n"
     ]
    }
   ],
   "source": [
    "with open('somefile.txt', 'rt') as f:\n",
    "\tfor line in f :\n",
    "\t\tprint(line)"
   ]
  },
  {
   "cell_type": "code",
   "execution_count": 27,
   "metadata": {},
   "outputs": [],
   "source": [
    "with open('somefile.txt', 'at') as f:\n",
    "\tf.write('some other text')"
   ]
  },
  {
   "cell_type": "code",
   "execution_count": 1,
   "metadata": {},
   "outputs": [],
   "source": [
    "with open('somefile.txt', 'at') as f:\n",
    "\tprint('hello world', file=f)"
   ]
  },
  {
   "cell_type": "code",
   "execution_count": 8,
   "metadata": {},
   "outputs": [
    {
     "name": "stdout",
     "output_type": "stream",
     "text": [
      "acme,20,91.5!!\n",
      "01234"
     ]
    }
   ],
   "source": [
    "print('acme', 20, 91.5, sep=',', end='!!\\n')\n",
    "\n",
    "for i in range(5):\n",
    "\tprint(i, end='')"
   ]
  },
  {
   "cell_type": "code",
   "execution_count": 11,
   "metadata": {},
   "outputs": [],
   "source": [
    "with open('somefile.bin', 'wb') as f:\n",
    "\tf.write(b'Hello World')"
   ]
  },
  {
   "cell_type": "code",
   "execution_count": 19,
   "metadata": {},
   "outputs": [
    {
     "name": "stdout",
     "output_type": "stream",
     "text": [
      "b'Hello World'\n",
      "72\n",
      "101\n",
      "108\n",
      "108\n",
      "111\n",
      "32\n",
      "87\n",
      "111\n",
      "114\n",
      "108\n",
      "100\n"
     ]
    }
   ],
   "source": [
    "with open('somefile.bin', 'rb') as f:\n",
    "\tline = f.readline()\n",
    "\twhile line :\n",
    "\t\tprint(line)\n",
    "\t\tfor i in line :\n",
    "\t\t\tprint(i)\n",
    "\t\tline = f.readline()"
   ]
  },
  {
   "cell_type": "code",
   "execution_count": 20,
   "metadata": {},
   "outputs": [],
   "source": [
    "with open('somefile.bin', 'wb') as f:\n",
    "\ttext = 'Hello World'\n",
    "\tf.write(text.encode('utf-8'))"
   ]
  },
  {
   "cell_type": "code",
   "execution_count": 21,
   "metadata": {},
   "outputs": [],
   "source": [
    "import array\n",
    "\n",
    "nums = array.array('i', [1,2,3,4])\n",
    "with open('data.bin', 'wb') as f :\n",
    "\tf.write(nums)"
   ]
  },
  {
   "cell_type": "code",
   "execution_count": 34,
   "metadata": {},
   "outputs": [
    {
     "name": "stdout",
     "output_type": "stream",
     "text": [
      "array('i', [1, 2, 3])\n"
     ]
    }
   ],
   "source": [
    "with open('data.bin', 'rb') as f:\n",
    "\ta = array.array('i', [0,0,0])\n",
    "\tf.readinto(a)\n",
    "\tprint(a)"
   ]
  },
  {
   "cell_type": "code",
   "execution_count": 40,
   "metadata": {},
   "outputs": [
    {
     "name": "stdout",
     "output_type": "stream",
     "text": [
      "Hello World\n",
      "This is a test\n",
      "\n"
     ]
    }
   ],
   "source": [
    "import io\n",
    "s = io.StringIO()\n",
    "s.write('Hello World\\n')\n",
    "\n",
    "print('This is a test', file=s)\n",
    "\n",
    "print(s.getvalue())"
   ]
  },
  {
   "cell_type": "code",
   "execution_count": null,
   "metadata": {},
   "outputs": [],
   "source": [
    "import gzip \n",
    "with gzip.open('silefile.gz', 'rt') as f:\n",
    "\ttext = f.read()\n",
    "\n",
    "with gzip.open('somefile.gz', 'wt') as f:\n",
    "\tf.write('text')"
   ]
  },
  {
   "cell_type": "code",
   "execution_count": null,
   "metadata": {},
   "outputs": [],
   "source": [
    "from functools import partial\n",
    "\n",
    "RECORD_SIZE = 32\n",
    "\n",
    "with open('somefile.data', 'rb') as f:\n",
    "\t# b'' is what gets returned when a file id read but the end of file had baeen reahed \n",
    "\trecords = iter(partial(f.read, RECORD_SIZE), b'')\n",
    "\t"
   ]
  },
  {
   "cell_type": "code",
   "execution_count": null,
   "metadata": {},
   "outputs": [],
   "source": [
    "import os.path\n",
    "\n",
    "def read_into_buffer(filename):\n",
    "\tbuf = bytearray(os.path.getsize(filename))\n",
    "\t# Full a preallocated array with data \n",
    "\t# Readinto() fills the content of an existing buffer rather an allocating new object and returning them \n",
    "\twith open(filename, 'rb') as f:\n",
    "\t\tf.readinto(buf)\n",
    "\treturn buf\n"
   ]
  },
  {
   "cell_type": "code",
   "execution_count": 8,
   "metadata": {},
   "outputs": [],
   "source": [
    "import os\n",
    "import mmap\n",
    "\n",
    "def memory_map(filename, access=mmap.ACCESS_WRITE):\n",
    "\tsize = os.path.getsize(filename)\n",
    "\tfd = os.open(filename, os.O_RDWR)\n",
    "\treturn mmap.mmap(fd, size, access=access)\n"
   ]
  },
  {
   "cell_type": "code",
   "execution_count": 9,
   "metadata": {},
   "outputs": [],
   "source": [
    "size = 1000000\n",
    "with open('data', 'wb') as f:\n",
    "\tf.seek(size-1)\n",
    "\tf.write(b'\\x00')"
   ]
  },
  {
   "cell_type": "code",
   "execution_count": 17,
   "metadata": {},
   "outputs": [],
   "source": [
    "m = memory_map('data')\n",
    "\n",
    "len(m)\n",
    "\n",
    "m[0:11] = b'Hello World'\n",
    "\n",
    "m.close()"
   ]
  },
  {
   "cell_type": "code",
   "execution_count": 18,
   "metadata": {},
   "outputs": [
    {
     "name": "stdout",
     "output_type": "stream",
     "text": [
      "b'Hello World\\x00'\n"
     ]
    }
   ],
   "source": [
    "with open('data', 'rb') as f:\n",
    "\tprint(f.read(12))"
   ]
  },
  {
   "cell_type": "code",
   "execution_count": 27,
   "metadata": {},
   "outputs": [
    {
     "data": {
      "text/plain": [
       "7"
      ]
     },
     "execution_count": 27,
     "metadata": {},
     "output_type": "execute_result"
    }
   ],
   "source": [
    "m = memory_map('data')\n",
    "v = memoryview(m).cast('I')\n",
    "\n",
    "v[0] = 7\n",
    "\n",
    "m[0:4]\n",
    "\n",
    "v[0]"
   ]
  },
  {
   "cell_type": "code",
   "execution_count": 37,
   "metadata": {},
   "outputs": [
    {
     "data": {
      "text/plain": [
       "'/Users/qiaozhang'"
      ]
     },
     "execution_count": 37,
     "metadata": {},
     "output_type": "execute_result"
    }
   ],
   "source": [
    "import os\n",
    "path = '/Users/qiaozhang/Desktop/data.csv'\n",
    "\n",
    "os.path.dirname(path)\n",
    "\n",
    "temp_data = os.path.join('temp','data',os.path.basename(path))\n",
    "temp_data\n",
    "\n",
    "path = '~'\n",
    "\n",
    "os.path.expanduser(path)"
   ]
  },
  {
   "cell_type": "code",
   "execution_count": 40,
   "metadata": {},
   "outputs": [
    {
     "data": {
      "text/plain": [
       "['.DS_Store',\n",
       " 'short.wav',\n",
       " '.localized',\n",
       " 'Sentient.io_files',\n",
       " 'Sentient.io.html',\n",
       " '.firebaserc',\n",
       " 'test.json',\n",
       " 'Screenshot 2022-06-12 at 1.22.15 AM.png',\n",
       " 'Sentient-io_logo_RGB_Vertical_Tagline_Black.png',\n",
       " 'test-any.wav',\n",
       " '.gitignore',\n",
       " '.ipynb_checkpoints',\n",
       " 'Sentient-io_logo_RGB_Vertical_No-Tagline.png',\n",
       " 'shan-shui-inf-master',\n",
       " 'Screenshot 2022-06-12 at 1.22.18 AM.png',\n",
       " 'TBO',\n",
       " 'ZQ-Dev',\n",
       " 'Sentient-Dev']"
      ]
     },
     "execution_count": 40,
     "metadata": {},
     "output_type": "execute_result"
    }
   ],
   "source": [
    "import os\n",
    "os.listdir('/Users/qiaozhang/Desktop/')"
   ]
  },
  {
   "cell_type": "code",
   "execution_count": 42,
   "metadata": {},
   "outputs": [
    {
     "data": {
      "text/plain": [
       "['.DS_Store',\n",
       " 'short.wav',\n",
       " '.localized',\n",
       " 'Sentient.io.html',\n",
       " '.firebaserc',\n",
       " 'test.json',\n",
       " 'Screenshot 2022-06-12 at 1.22.15 AM.png',\n",
       " 'Sentient-io_logo_RGB_Vertical_Tagline_Black.png',\n",
       " 'test-any.wav',\n",
       " '.gitignore',\n",
       " 'Sentient-io_logo_RGB_Vertical_No-Tagline.png',\n",
       " 'Screenshot 2022-06-12 at 1.22.18 AM.png']"
      ]
     },
     "execution_count": 42,
     "metadata": {},
     "output_type": "execute_result"
    }
   ],
   "source": [
    "import os.path\n",
    "\n",
    "names = [name for name in os.listdir('/Users/qiaozhang/Desktop/') if os.path.isfile(os.path.join('/Users/qiaozhang/Desktop/', name))]\n",
    "\n",
    "names"
   ]
  },
  {
   "cell_type": "code",
   "execution_count": 44,
   "metadata": {},
   "outputs": [
    {
     "data": {
      "text/plain": [
       "['/Users/qiaozhang/Desktop/Screenshot 2022-06-12 at 1.22.15 AM.png',\n",
       " '/Users/qiaozhang/Desktop/Sentient-io_logo_RGB_Vertical_Tagline_Black.png',\n",
       " '/Users/qiaozhang/Desktop/Sentient-io_logo_RGB_Vertical_No-Tagline.png',\n",
       " '/Users/qiaozhang/Desktop/Screenshot 2022-06-12 at 1.22.18 AM.png']"
      ]
     },
     "execution_count": 44,
     "metadata": {},
     "output_type": "execute_result"
    }
   ],
   "source": [
    "import glob\n",
    "pngs = glob.glob('/Users/qiaozhang/Desktop/*.png')\n",
    "pngs"
   ]
  },
  {
   "cell_type": "code",
   "execution_count": 46,
   "metadata": {},
   "outputs": [
    {
     "data": {
      "text/plain": [
       "['Screenshot 2022-06-12 at 1.22.15 AM.png',\n",
       " 'Sentient-io_logo_RGB_Vertical_Tagline_Black.png',\n",
       " 'Sentient-io_logo_RGB_Vertical_No-Tagline.png',\n",
       " 'Screenshot 2022-06-12 at 1.22.18 AM.png']"
      ]
     },
     "execution_count": 46,
     "metadata": {},
     "output_type": "execute_result"
    }
   ],
   "source": [
    "from fnmatch import fnmatch\n",
    "pngs = [name for name in  os.listdir('/Users/qiaozhang/Desktop') if fnmatch(name, '*.png')]\n",
    "pngs"
   ]
  },
  {
   "cell_type": "code",
   "execution_count": 49,
   "metadata": {},
   "outputs": [
    {
     "name": "stdout",
     "output_type": "stream",
     "text": [
      "/Users/qiaozhang/Desktop/Screenshot 2022-06-12 at 1.22.15 AM.png\n",
      "2107861\n",
      "1654968139.033371\n",
      "___\n",
      "/Users/qiaozhang/Desktop/Sentient-io_logo_RGB_Vertical_Tagline_Black.png\n",
      "41276\n",
      "1655923176.3573334\n",
      "___\n",
      "/Users/qiaozhang/Desktop/Sentient-io_logo_RGB_Vertical_No-Tagline.png\n",
      "20607\n",
      "1655923212.3795857\n",
      "___\n",
      "/Users/qiaozhang/Desktop/Screenshot 2022-06-12 at 1.22.18 AM.png\n",
      "145884\n",
      "1654968144.3030355\n",
      "___\n"
     ]
    }
   ],
   "source": [
    "import os \n",
    "import os.path\n",
    "import glob\n",
    "\n",
    "pngs = glob.glob('/Users/qiaozhang/Desktop/*.png')\n",
    "\n",
    "name_sz_date = [(name, os.path.getsize(name), os.path.getmtime(name)) for name in pngs]\n",
    "\n",
    "for name, size, mtime in name_sz_date:\n",
    "\tprint(name, size, mtime, sep='\\n', end=\"\\n___\\n\")"
   ]
  },
  {
   "cell_type": "code",
   "execution_count": 1,
   "metadata": {},
   "outputs": [
    {
     "data": {
      "text/plain": [
       "'utf-8'"
      ]
     },
     "execution_count": 1,
     "metadata": {},
     "output_type": "execute_result"
    }
   ],
   "source": [
    "import sys\n",
    "sys.getfilesystemencoding()"
   ]
  },
  {
   "cell_type": "code",
   "execution_count": 4,
   "metadata": {},
   "outputs": [
    {
     "data": {
      "text/plain": [
       "[b'somefile.bin',\n",
       " b'somefile.txt',\n",
       " b'chapter1 & 2.ipynb',\n",
       " b'chapter4.ipynb',\n",
       " b'chapter3.ipynb',\n",
       " b'chapter5.ipynb',\n",
       " b'jalape\\xc3\\xb1o.txt',\n",
       " b'.ipynb_checkpoints',\n",
       " b'data',\n",
       " b'data.bin']"
      ]
     },
     "execution_count": 4,
     "metadata": {},
     "output_type": "execute_result"
    }
   ],
   "source": [
    "with open('jalape\\xf1o.txt', 'w') as f:\n",
    "\tf.write('Spicy!')\n",
    "\n",
    "import os\n",
    "os.listdir(b'.')"
   ]
  },
  {
   "cell_type": "code",
   "execution_count": 16,
   "metadata": {},
   "outputs": [
    {
     "name": "stdout",
     "output_type": "stream",
     "text": [
      "b'<!doctype html>\\n<!--[if lt IE 7]>   <html class=\"no-js ie6 lt-ie7 lt-ie8 lt-ie9\">   <![endif]-->\\n<!-'\n",
      "-[if IE 7]>      <html class=\"no-js ie7 lt-ie8 lt-ie9\">          <![endif]-->\n",
      "<!--[if IE 8]>      <h\n"
     ]
    }
   ],
   "source": [
    "import urllib.request\n",
    "import io\n",
    "\n",
    "u = urllib.request.urlopen('http://www.python.org')\n",
    "print(u.read(100))\n",
    "\n",
    "f = io.TextIOWrapper(u, encoding='utf-8')\n",
    "\n",
    "print(f.read(100))"
   ]
  },
  {
   "cell_type": "code",
   "execution_count": 17,
   "metadata": {},
   "outputs": [
    {
     "name": "stdout",
     "output_type": "stream",
     "text": [
      "<_io.TextIOWrapper name='somefile.txt' mode='w' encoding='UTF-8'>\n",
      "<_io.BufferedWriter name='somefile.txt'>\n",
      "<_io.FileIO name='somefile.txt' mode='wb' closefd=True>\n"
     ]
    }
   ],
   "source": [
    "f = open('somefile.txt','w')\n",
    "\n",
    "print(f)\n",
    "print(f.buffer)\n",
    "print(f.buffer.raw)\n"
   ]
  },
  {
   "cell_type": "code",
   "execution_count": 19,
   "metadata": {},
   "outputs": [],
   "source": [
    "with open('somefile.txt', 'wt') as f:\n",
    "\tf.buffer.write(b'Hello\\n')"
   ]
  },
  {
   "cell_type": "code",
   "execution_count": 2,
   "metadata": {},
   "outputs": [],
   "source": [
    "from socket import socket, AF_INET, SOCK_STREAM\n",
    "\n",
    "\n",
    "def echo_client(client_sock, addr):\n",
    "    print('Got connection from ', addr)\n",
    "\n",
    "    # Make text-mode file wrappers for socket reading/writing\n",
    "    client_in = open(client_sock.fileno(),\n",
    "                     'rt',\n",
    "                     encoding='latin-1',\n",
    "                     closefd=False)\n",
    "    client_out = open(client_sock.fileno(),\n",
    "                      'wt',\n",
    "                      encoding='latin-1',\n",
    "                      closefd=False)\n",
    "    # Echo lines back to the client using file I/O\n",
    "    for line in client_in:\n",
    "      client_out.write(line)\n",
    "      client_out.flush()\n",
    "    client_sock.close()\n",
    "\n",
    "def echo_server(address):\n",
    "  sock = socket(AF_INET, SOCK_STREAM)\n",
    "  sock.bind(address)\n",
    "  sock.listen(1)\n",
    "  while True:\n",
    "    client, addr = sock.accept()\n",
    "    echo_client(client, addr)"
   ]
  },
  {
   "cell_type": "code",
   "execution_count": 4,
   "metadata": {},
   "outputs": [
    {
     "data": {
      "text/plain": [
       "'Hello\\nWorld\\n'"
      ]
     },
     "execution_count": 4,
     "metadata": {},
     "output_type": "execute_result"
    }
   ],
   "source": [
    "from tempfile import TemporaryFile\n",
    "\n",
    "with TemporaryFile('w+t') as f:\n",
    "\tf.write('Hello\\n')\n",
    "\tf.write('World\\n')\n",
    "\n",
    "\tf.seek(0)\n",
    "\tdata = f.read()\n",
    "\n",
    "data"
   ]
  },
  {
   "cell_type": "code",
   "execution_count": 11,
   "metadata": {},
   "outputs": [],
   "source": [
    "from tempfile import NamedTemporaryFile\n",
    "from time import sleep\n",
    "\n",
    "f = NamedTemporaryFile(prefix='mytemp', suffix='.txt', dir='./')\n",
    "\n",
    "f.name\n",
    "sleep(5)\n",
    "f.close()"
   ]
  },
  {
   "cell_type": "code",
   "execution_count": 27,
   "metadata": {},
   "outputs": [],
   "source": [
    "import pickle\n",
    "\n",
    "data = {'name': 'test'}\n",
    "f = open('somefile', 'wb')\n",
    "pickle.dump(data, f)\n",
    "\n"
   ]
  },
  {
   "cell_type": "code",
   "execution_count": 28,
   "metadata": {},
   "outputs": [
    {
     "data": {
      "text/plain": [
       "{'name': 'test'}"
      ]
     },
     "execution_count": 28,
     "metadata": {},
     "output_type": "execute_result"
    }
   ],
   "source": [
    "f = open('somefile', 'rb')\n",
    "data = pickle.load(f)\n",
    "\n",
    "data"
   ]
  },
  {
   "cell_type": "code",
   "execution_count": 30,
   "metadata": {},
   "outputs": [
    {
     "name": "stdout",
     "output_type": "stream",
     "text": [
      "test\n",
      "123\n",
      "['a', 'b', 'c']\n",
      "English\n"
     ]
    }
   ],
   "source": [
    "f = open('somefile', 'wb')\n",
    "\n",
    "e = 'English'\n",
    "\n",
    "pickle.dump('test', f)\n",
    "pickle.dump(123, f)\n",
    "pickle.dump(['a','b','c'], f)\n",
    "pickle.dump(e, f)\n",
    "\n",
    "f.close()\n",
    "\n",
    "f = open('somefile', 'rb')\n",
    "data = pickle.load(f)\n",
    "print(data)\n",
    "data = pickle.load(f)\n",
    "print(data)\n",
    "data = pickle.load(f)\n",
    "print(data)\n",
    "data = pickle.load(f)\n",
    "print(data)"
   ]
  }
 ],
 "metadata": {
  "kernelspec": {
   "display_name": "Python 3.8.11 ('base')",
   "language": "python",
   "name": "python3"
  },
  "language_info": {
   "codemirror_mode": {
    "name": "ipython",
    "version": 3
   },
   "file_extension": ".py",
   "mimetype": "text/x-python",
   "name": "python",
   "nbconvert_exporter": "python",
   "pygments_lexer": "ipython3",
   "version": "3.8.11"
  },
  "orig_nbformat": 4,
  "vscode": {
   "interpreter": {
    "hash": "948fc45e6b544a800bd799d52dda4f797494f20f8b7a6b95f8bc5ef55b9765cd"
   }
  }
 },
 "nbformat": 4,
 "nbformat_minor": 2
}
