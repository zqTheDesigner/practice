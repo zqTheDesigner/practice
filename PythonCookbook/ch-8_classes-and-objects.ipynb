{
 "cells": [
  {
   "cell_type": "code",
   "execution_count": 1,
   "metadata": {},
   "outputs": [],
   "source": [
    "class Pair:\n",
    "\tdef __init__(self, x, y):\n",
    "\t\tself.x = x\n",
    "\t\tself.y = y\n",
    "\t\n",
    "\tdef __repr__(self):\n",
    "\t\treturn 'Pair({0.x!r}, {0.y!r})'.format(self)\n",
    "\n",
    "\tdef __str__(self):\n",
    "\t\treturn '({0.x!s}, {0.y!s})'.format(self)\n",
    "\n",
    "p = Pair(9,10)"
   ]
  },
  {
   "cell_type": "code",
   "execution_count": 7,
   "metadata": {},
   "outputs": [
    {
     "name": "stdout",
     "output_type": "stream",
     "text": [
      "p is Pair(9, 10)\n"
     ]
    }
   ],
   "source": [
    "print('p is {0!r}'.format(p))\n"
   ]
  },
  {
   "cell_type": "code",
   "execution_count": 2,
   "metadata": {},
   "outputs": [],
   "source": [
    "_formats = {\n",
    "\t'ymd': '{d.year}-{d.month}-{d.day}',\n",
    "\t'mdy':'{d.month}-{d.day}-{d.year}',\n",
    "\t'dmy':'{d.day}-{d.month}-{d.year}'\n",
    "}\n",
    "\n",
    "class Date:\n",
    "\tdef __init__(self, year, month, day):\n",
    "\t\tself.year = year\n",
    "\t\tself.month = month\n",
    "\t\tself.day = day\n",
    "\n",
    "\tdef __format__(self, code):\n",
    "\t\tif code =='':\n",
    "\t\t\tcode = 'ymd'\n",
    "\t\tfmt = _formats[code]\n",
    "\t\treturn fmt.format(d=self)"
   ]
  },
  {
   "cell_type": "code",
   "execution_count": 3,
   "metadata": {},
   "outputs": [
    {
     "data": {
      "text/plain": [
       "'2012-12-21'"
      ]
     },
     "execution_count": 3,
     "metadata": {},
     "output_type": "execute_result"
    }
   ],
   "source": [
    "d = Date(2012, 12, 21)\n",
    "format(d)"
   ]
  },
  {
   "cell_type": "code",
   "execution_count": 5,
   "metadata": {},
   "outputs": [
    {
     "data": {
      "text/plain": [
       "'21-12-2012'"
      ]
     },
     "execution_count": 5,
     "metadata": {},
     "output_type": "execute_result"
    }
   ],
   "source": [
    "format(d, 'dmy')"
   ]
  },
  {
   "cell_type": "code",
   "execution_count": 10,
   "metadata": {},
   "outputs": [],
   "source": [
    "from socket import socket, AF_INET, SOCK_STREAM\n",
    "\n",
    "class LazyConection:\n",
    "\tdef __init__(self, address, family=AF_INET, type=SOCK_STREAM):\n",
    "\t\tself.address = address\n",
    "\t\tself.family = family\n",
    "\t\tself.type = type\n",
    "\t\tself.sock = None\n",
    "\n",
    "\tdef __enter__(self):\n",
    "\t\tif self.sock is not None:\n",
    "\t\t\traise RuntimeError('Already Connected')\n",
    "\t\tself.sock = socket(self.family, self.type)\n",
    "\t\tself.sock.connect(self.address)\n",
    "\t\treturn self.sock\n",
    "\n",
    "\tdef __exit__(self, exc_ty, exc_val, tb):\n",
    "\t\tself.sock.close()\n",
    "\t\tself.sock = None"
   ]
  },
  {
   "cell_type": "code",
   "execution_count": 11,
   "metadata": {},
   "outputs": [],
   "source": [
    "from functools import partial\n",
    "\n",
    "conn = LazyConection(('www.python.org', 80))\n",
    "\n",
    "with conn as s:\n",
    "\ts.send(b'GET /index.html HTTP/1.0\\r\\n')\n",
    "\ts.send(b'HOST: www.python.org\\r\\n')\n",
    "\ts.send(b'\\r\\n')\n",
    "\tresp = b''.join(iter(partial(s.recv, 8192), b''))"
   ]
  },
  {
   "cell_type": "code",
   "execution_count": 19,
   "metadata": {},
   "outputs": [
    {
     "name": "stdout",
     "output_type": "stream",
     "text": [
      "__enter__ triggered\n",
      "123\n",
      "223\n",
      "__exit__ triggered,  None None None\n"
     ]
    }
   ],
   "source": [
    "class Test:\n",
    "\tdef __init__(self, val):\n",
    "\t\tself.val = val\n",
    "\n",
    "\tdef add(self, to_add):\n",
    "\t\tself.val = self.val+ to_add\n",
    "\n",
    "\tdef __enter__(self):\n",
    "\t\tprint('__enter__ triggered')\n",
    "\t\treturn self\n",
    "\n",
    "\tdef __exit__(self, exc_ty, ext_val, tb):\n",
    "\t\tprint('__exit__ triggered, ', exc_ty, ext_val, tb)\n",
    "\t\treturn None\n",
    "\n",
    "test = Test(123)\n",
    "\n",
    "with test as t:\n",
    "\tprint(t.val)\n",
    "\tt.add(100)\n",
    "\tprint(t.val)"
   ]
  },
  {
   "cell_type": "code",
   "execution_count": 16,
   "metadata": {},
   "outputs": [
    {
     "data": {
      "text/plain": [
       "1"
      ]
     },
     "execution_count": 16,
     "metadata": {},
     "output_type": "execute_result"
    }
   ],
   "source": [
    "class B:\n",
    "\tdef __init__(self):\n",
    "\t\tself.__private = 0\n",
    "\n",
    "\tdef __private_method(self):\n",
    "\t\tself.__private = 1\n",
    "\n",
    "class C(B):\n",
    "\tdef __init__(self):\n",
    "\t\tsuper().__init__()\n",
    "\t\tself.__private = 2\n",
    "\t\n",
    "\tdef __private_method(self):\n",
    "\t\tself.__private = 3\n",
    "\n",
    "b = B()\n",
    "\n",
    "b._B__private_method()\n",
    "b._B__private"
   ]
  },
  {
   "cell_type": "code",
   "execution_count": 19,
   "metadata": {},
   "outputs": [],
   "source": [
    "class Person:\n",
    "\tdef __init__(self, first_name):\n",
    "\t\tself.first_name = first_name\n",
    "\n",
    "\t# Getter function\n",
    "\t@property\n",
    "\tdef first_name(self):\n",
    "\t\tprint('Getting first name')\n",
    "\t\treturn self._first_name\n",
    "\t\n",
    "\t# Setter function\n",
    "\t@first_name.setter\n",
    "\tdef first_name(self, value):\n",
    "\t\tif not isinstance(value, str):\n",
    "\t\t\traise TypeError('Expected a string')\n",
    "\t\tself._first_name = value\n",
    "\t\n",
    "\t# Deleter function (optional)\n",
    "\t@first_name.deleter\n",
    "\tdef first_name(self):\n",
    "\t\traise AttributeError(\"Can't delete attribute\")"
   ]
  },
  {
   "cell_type": "code",
   "execution_count": 20,
   "metadata": {},
   "outputs": [
    {
     "name": "stdout",
     "output_type": "stream",
     "text": [
      "Getting first name\n"
     ]
    },
    {
     "data": {
      "text/plain": [
       "'Guido'"
      ]
     },
     "execution_count": 20,
     "metadata": {},
     "output_type": "execute_result"
    }
   ],
   "source": [
    "a = Person('Guido')\n",
    "\n",
    "a.first_name"
   ]
  },
  {
   "cell_type": "code",
   "execution_count": 21,
   "metadata": {},
   "outputs": [],
   "source": [
    "class Person2:\n",
    "\tdef __init__(self, first_name):\n",
    "\t\tself.first_name = first_name\n"
   ]
  },
  {
   "cell_type": "code",
   "execution_count": 22,
   "metadata": {},
   "outputs": [
    {
     "data": {
      "text/plain": [
       "'Guido'"
      ]
     },
     "execution_count": 22,
     "metadata": {},
     "output_type": "execute_result"
    }
   ],
   "source": [
    "a = Person2('Guido')\n",
    "a.first_name"
   ]
  },
  {
   "cell_type": "code",
   "execution_count": 27,
   "metadata": {},
   "outputs": [
    {
     "name": "stdout",
     "output_type": "stream",
     "text": [
      "B.spam\n",
      "A.spam\n"
     ]
    }
   ],
   "source": [
    "class A:\n",
    "\tdef spam(self):\n",
    "\t\tprint('A.spam')\n",
    "\n",
    "class B(A):\n",
    "\tdef spam(self):\n",
    "\t\tprint('B.spam')\n",
    "\t\tsuper().spam()\n",
    "\n",
    "b = B()\n",
    "\n",
    "b.spam()"
   ]
  },
  {
   "cell_type": "code",
   "execution_count": 1,
   "metadata": {},
   "outputs": [],
   "source": [
    "class Person:\n",
    "\tdef __init__(self, name):\n",
    "\t\tself.name = name\n",
    "\t\n",
    "\t# Getter function\n",
    "\t@property\n",
    "\tdef name(self):\n",
    "\t\treturn self._name\n",
    "\n",
    "\t# Setter function\n",
    "\t@name.setter\n",
    "\tdef name(self, value):\n",
    "\t\tif not isinstance(value, str):\n",
    "\t\t\traise TypeError('Expected a string')\n",
    "\t\tself._name = value\n",
    "\n",
    "\t# Deleter function\n",
    "\t@name.deleter\n",
    "\tdef name(self):\n",
    "\t\traise AttributeError('Can not delete attribute')\n",
    "\t"
   ]
  },
  {
   "cell_type": "code",
   "execution_count": 2,
   "metadata": {},
   "outputs": [],
   "source": [
    "class SubPerson(Person):\n",
    "\t@property\n",
    "\tdef name(self):\n",
    "\t\tprint('Getting name')\n",
    "\t\treturn super().name\n",
    "\n",
    "\t@name.setter\n",
    "\tdef name(self, value):\n",
    "\t\tprint('Setting name to', value)\n",
    "\t\tsuper(SubPerson, SubPerson).name.__set__(self, value)\n",
    "\n",
    "\t@name.deleter\n",
    "\tdef name(self):\n",
    "\t\tprint('Deleting name')\n",
    "\t\tsuper(SubPerson, SubPerson).name.__delete__(self)\n",
    "\t\t"
   ]
  },
  {
   "cell_type": "code",
   "execution_count": 3,
   "metadata": {},
   "outputs": [
    {
     "name": "stdout",
     "output_type": "stream",
     "text": [
      "Setting name to Guido\n"
     ]
    }
   ],
   "source": [
    "s = SubPerson('Guido')\n",
    "\n"
   ]
  },
  {
   "cell_type": "code",
   "execution_count": 4,
   "metadata": {},
   "outputs": [
    {
     "name": "stdout",
     "output_type": "stream",
     "text": [
      "Getting name\n"
     ]
    },
    {
     "data": {
      "text/plain": [
       "'Guido'"
      ]
     },
     "execution_count": 4,
     "metadata": {},
     "output_type": "execute_result"
    }
   ],
   "source": [
    "s.name"
   ]
  },
  {
   "cell_type": "code",
   "execution_count": 8,
   "metadata": {},
   "outputs": [],
   "source": [
    "class String:\n",
    "\tdef __init__(self, name):\n",
    "\t\tself.name = name\n",
    "\t\n",
    "\tdef __get__(self, instance, cls):\n",
    "\t\tif instance is None:\n",
    "\t\t\treturn self\n",
    "\t\treturn instance.__dict__[self.name]\n",
    "\n",
    "\tdef __set__(self, instance, value):\n",
    "\t\tif not isinstance(value, str):\n",
    "\t\t\traise TypeError('Expected a string')\n",
    "\t\tinstance.__dict__[self.name] = value\n",
    "\n",
    "class Person:\n",
    "\tname = String('name')\n",
    "\tdef __init__(self,name):\n",
    "\t\tself.name = name\n",
    "\n",
    "\n",
    "class SubPerson(Person):\n",
    "\t@property\n",
    "\tdef name(self):\n",
    "\t\tprint('Getting Name')\n",
    "\t\treturn super().name\n",
    "\n",
    "\t@name.setter\n",
    "\tdef name(self, value):\n",
    "\t\tprint(\"Setting name to\", value)\n",
    "\t\tsuper(SubPerson, SubPerson).name.__set__(self, value)\n",
    "\n",
    "\t@name.deleter\n",
    "\tdef name(self):\n",
    "\t\tprint('Deleting name')\n",
    "\t\tsuper(SubPerson, SubPerson).name.__delete__(self)\n",
    "\n",
    "\n"
   ]
  },
  {
   "cell_type": "code",
   "execution_count": 13,
   "metadata": {},
   "outputs": [
    {
     "name": "stdout",
     "output_type": "stream",
     "text": [
      "Setting name to e\n",
      "Getting Name\n",
      "Setting name to tim\n",
      "Deleting name\n"
     ]
    },
    {
     "ename": "AttributeError",
     "evalue": "'String' object has no attribute '__delete__'",
     "output_type": "error",
     "traceback": [
      "\u001b[0;31m---------------------------------------------------------------------------\u001b[0m",
      "\u001b[0;31mAttributeError\u001b[0m                            Traceback (most recent call last)",
      "\u001b[1;32m/home/zq/Desktop/zq-dev/practice/PythonCookbook/ch-8_classes-and-objects.ipynb Cell 20\u001b[0m in \u001b[0;36m<cell line: 7>\u001b[0;34m()\u001b[0m\n\u001b[1;32m      <a href='vscode-notebook-cell:/home/zq/Desktop/zq-dev/practice/PythonCookbook/ch-8_classes-and-objects.ipynb#X25sZmlsZQ%3D%3D?line=2'>3</a>\u001b[0m p\u001b[39m.\u001b[39mname\n\u001b[1;32m      <a href='vscode-notebook-cell:/home/zq/Desktop/zq-dev/practice/PythonCookbook/ch-8_classes-and-objects.ipynb#X25sZmlsZQ%3D%3D?line=4'>5</a>\u001b[0m p\u001b[39m.\u001b[39mname \u001b[39m=\u001b[39m \u001b[39m'\u001b[39m\u001b[39mtim\u001b[39m\u001b[39m'\u001b[39m\n\u001b[0;32m----> <a href='vscode-notebook-cell:/home/zq/Desktop/zq-dev/practice/PythonCookbook/ch-8_classes-and-objects.ipynb#X25sZmlsZQ%3D%3D?line=6'>7</a>\u001b[0m \u001b[39mdel\u001b[39;00m p\u001b[39m.\u001b[39mname\n",
      "\u001b[1;32m/home/zq/Desktop/zq-dev/practice/PythonCookbook/ch-8_classes-and-objects.ipynb Cell 20\u001b[0m in \u001b[0;36mSubPerson.name\u001b[0;34m(self)\u001b[0m\n\u001b[1;32m     <a href='vscode-notebook-cell:/home/zq/Desktop/zq-dev/practice/PythonCookbook/ch-8_classes-and-objects.ipynb#X25sZmlsZQ%3D%3D?line=31'>32</a>\u001b[0m \u001b[39m@name\u001b[39m\u001b[39m.\u001b[39mdeleter\n\u001b[1;32m     <a href='vscode-notebook-cell:/home/zq/Desktop/zq-dev/practice/PythonCookbook/ch-8_classes-and-objects.ipynb#X25sZmlsZQ%3D%3D?line=32'>33</a>\u001b[0m \u001b[39mdef\u001b[39;00m \u001b[39mname\u001b[39m(\u001b[39mself\u001b[39m):\n\u001b[1;32m     <a href='vscode-notebook-cell:/home/zq/Desktop/zq-dev/practice/PythonCookbook/ch-8_classes-and-objects.ipynb#X25sZmlsZQ%3D%3D?line=33'>34</a>\u001b[0m \t\u001b[39mprint\u001b[39m(\u001b[39m'\u001b[39m\u001b[39mDeleting name\u001b[39m\u001b[39m'\u001b[39m)\n\u001b[0;32m---> <a href='vscode-notebook-cell:/home/zq/Desktop/zq-dev/practice/PythonCookbook/ch-8_classes-and-objects.ipynb#X25sZmlsZQ%3D%3D?line=34'>35</a>\u001b[0m \t\u001b[39msuper\u001b[39;49m(SubPerson, SubPerson)\u001b[39m.\u001b[39;49mname\u001b[39m.\u001b[39;49m\u001b[39m__delete__\u001b[39;49m(\u001b[39mself\u001b[39m)\n",
      "\u001b[0;31mAttributeError\u001b[0m: 'String' object has no attribute '__delete__'"
     ]
    }
   ],
   "source": [
    "p = SubPerson('e')\n",
    "\n",
    "p.name\n",
    "\n",
    "p.name = 'tim'\n",
    "\n",
    "del p.name"
   ]
  },
  {
   "cell_type": "code",
   "execution_count": 1,
   "metadata": {},
   "outputs": [
    {
     "data": {
      "text/plain": [
       "2"
      ]
     },
     "execution_count": 1,
     "metadata": {},
     "output_type": "execute_result"
    }
   ],
   "source": [
    "# Descriptor attribute for an integer type-checked attribute\n",
    "class Integer:\n",
    "\tdef __init__(self, name):\n",
    "\t\tself.name = name\n",
    "\n",
    "\tdef __get__(self, instance, cls):\n",
    "\t\tif instance is None:\n",
    "\t\t\treturn self\n",
    "\t\telse:\n",
    "\t\t\treturn instance.__dict__[self.name]\n",
    "\n",
    "\tdef __set__(self, instance, value):\n",
    "\t\tif not isinstance(value, int):\n",
    "\t\t\traise TypeError('Expected an int')\n",
    "\t\tinstance.__dict__[self.name] = value \n",
    "\n",
    "\tdef __delete__(self, instance):\n",
    "\t\tdel instance.__dict__[self.name]\n",
    "\n",
    "class Point:\n",
    "\tx = Integer('x')\n",
    "\ty = Integer('y')\n",
    "\tdef __init__(self, x, y):\n",
    "\t\tself.x = x\n",
    "\t\tself.y = y\n",
    "\t\n",
    "p = Point(2,3)\n",
    "\n",
    "p.x \n"
   ]
  },
  {
   "cell_type": "code",
   "execution_count": 3,
   "metadata": {},
   "outputs": [
    {
     "ename": "TypeError",
     "evalue": "Expected an int",
     "output_type": "error",
     "traceback": [
      "\u001b[0;31m---------------------------------------------------------------------------\u001b[0m",
      "\u001b[0;31mTypeError\u001b[0m                                 Traceback (most recent call last)",
      "\u001b[1;32m/home/zq/Desktop/zq-dev/practice/PythonCookbook/ch-8_classes-and-objects.ipynb Cell 22\u001b[0m in \u001b[0;36m<cell line: 1>\u001b[0;34m()\u001b[0m\n\u001b[0;32m----> <a href='vscode-notebook-cell:/home/zq/Desktop/zq-dev/practice/PythonCookbook/ch-8_classes-and-objects.ipynb#X30sZmlsZQ%3D%3D?line=0'>1</a>\u001b[0m p\u001b[39m.\u001b[39mx \u001b[39m=\u001b[39m \u001b[39m2.2\u001b[39m\n",
      "\u001b[1;32m/home/zq/Desktop/zq-dev/practice/PythonCookbook/ch-8_classes-and-objects.ipynb Cell 22\u001b[0m in \u001b[0;36mInteger.__set__\u001b[0;34m(self, instance, value)\u001b[0m\n\u001b[1;32m     <a href='vscode-notebook-cell:/home/zq/Desktop/zq-dev/practice/PythonCookbook/ch-8_classes-and-objects.ipynb#X30sZmlsZQ%3D%3D?line=11'>12</a>\u001b[0m \u001b[39mdef\u001b[39;00m \u001b[39m__set__\u001b[39m(\u001b[39mself\u001b[39m, instance, value):\n\u001b[1;32m     <a href='vscode-notebook-cell:/home/zq/Desktop/zq-dev/practice/PythonCookbook/ch-8_classes-and-objects.ipynb#X30sZmlsZQ%3D%3D?line=12'>13</a>\u001b[0m \t\u001b[39mif\u001b[39;00m \u001b[39mnot\u001b[39;00m \u001b[39misinstance\u001b[39m(value, \u001b[39mint\u001b[39m):\n\u001b[0;32m---> <a href='vscode-notebook-cell:/home/zq/Desktop/zq-dev/practice/PythonCookbook/ch-8_classes-and-objects.ipynb#X30sZmlsZQ%3D%3D?line=13'>14</a>\u001b[0m \t\t\u001b[39mraise\u001b[39;00m \u001b[39mTypeError\u001b[39;00m(\u001b[39m'\u001b[39m\u001b[39mExpected an int\u001b[39m\u001b[39m'\u001b[39m)\n\u001b[1;32m     <a href='vscode-notebook-cell:/home/zq/Desktop/zq-dev/practice/PythonCookbook/ch-8_classes-and-objects.ipynb#X30sZmlsZQ%3D%3D?line=14'>15</a>\u001b[0m \tinstance\u001b[39m.\u001b[39m\u001b[39m__dict__\u001b[39m[\u001b[39mself\u001b[39m\u001b[39m.\u001b[39mname] \u001b[39m=\u001b[39m value\n",
      "\u001b[0;31mTypeError\u001b[0m: Expected an int"
     ]
    }
   ],
   "source": [
    "p.x = 2.2"
   ]
  },
  {
   "cell_type": "code",
   "execution_count": 5,
   "metadata": {},
   "outputs": [],
   "source": [
    "class lazyproperty:\n",
    "\tdef __init__(self, func):\n",
    "\t\tself.func = func\n",
    "\n",
    "\tdef __get__(self, instance, cls):\n",
    "\t\tif instance is None:\n",
    "\t\t\treturn self\n",
    "\t\telse:\n",
    "\t\t\tvalue = self.func(instance)\n",
    "\t\t\tsetattr(instance, self.func.__name__, value)\n",
    "\t\t\treturn value\n",
    "\n",
    "\t\n",
    "import math\n",
    "\n",
    "class Circle:\n",
    "\tdef __init__(self, radius):\n",
    "\t\tself.radius = radius\n",
    "\n",
    "\t@lazyproperty\n",
    "\tdef area(self):\n",
    "\t\tprint('Computing area')\n",
    "\t\treturn math.pi * self.radius **2\n",
    "\n",
    "\t@lazyproperty\n",
    "\tdef perimeter(self):\n",
    "\t\tprint('Computing perimeter')\n",
    "\t\treturn 2 * math.pi * self.radius\n",
    "\n",
    "\t"
   ]
  },
  {
   "cell_type": "code",
   "execution_count": 6,
   "metadata": {},
   "outputs": [
    {
     "name": "stdout",
     "output_type": "stream",
     "text": [
      "Computing area\n",
      "Computing perimeter\n"
     ]
    },
    {
     "data": {
      "text/plain": [
       "25.132741228718345"
      ]
     },
     "execution_count": 6,
     "metadata": {},
     "output_type": "execute_result"
    }
   ],
   "source": [
    "c = Circle(4.0)\n",
    "\n",
    "c.radius\n",
    "\n",
    "c.area\n",
    "\n",
    "c.area\n",
    "\n",
    "c.perimeter\n",
    "\n",
    "c.perimeter\n"
   ]
  },
  {
   "cell_type": "code",
   "execution_count": 8,
   "metadata": {},
   "outputs": [],
   "source": [
    "class Structure:\n",
    "\t# Class variable that specifies expected fields\n",
    "\t_fields = []\n",
    "\tdef __init__(self, *args):\n",
    "\t\tif len(args) != len(self._fields):\n",
    "\t\t\traise TypeError('Expected {} arguments'.format(len(self._fields)))\n",
    "\n",
    "\t\t# Set the arguments\n",
    "\t\tfor name, value in zip(self._fields, args):\n",
    "\t\t\tsetattr(self, name, value)\n",
    "\t\t\t"
   ]
  },
  {
   "cell_type": "code",
   "execution_count": 9,
   "metadata": {},
   "outputs": [
    {
     "data": {
      "text/plain": [
       "'acme'"
      ]
     },
     "execution_count": 9,
     "metadata": {},
     "output_type": "execute_result"
    }
   ],
   "source": [
    "class Stock(Structure):\n",
    "\t_fields = ['name', 'shares', 'price']\n",
    "\n",
    "s = Stock('acme', 50, 91.1)\n",
    "\n",
    "s.name"
   ]
  },
  {
   "cell_type": "code",
   "execution_count": null,
   "metadata": {},
   "outputs": [],
   "source": [
    "from abc import ABCMeta, abstractclassmethod, abstractmethod\n",
    "\n",
    "class IStream(metaclass=ABCMeta):\n",
    "\t@abstractmethod\n",
    "\tdef read(self, maxbytes=-1):\n",
    "\t\tpass\n",
    "\t@abstractmethod\n",
    "\tdef write(self, data):\n",
    "\t\tpass\n",
    "\n",
    "class SocketStream(IStream):\n",
    "\tdef read(self, maxbyte=-1):\n",
    "\t\t...\n",
    "\n",
    "\tdef write(self, data):\n",
    "\t\t...\n",
    "\n",
    "\t\t"
   ]
  },
  {
   "cell_type": "code",
   "execution_count": 2,
   "metadata": {},
   "outputs": [],
   "source": [
    "# Base class. Use a descriptor to set a vlaue\n",
    "class Descriptor:\n",
    "\tdef __init__(self, name=None, **opts):\n",
    "\t\tself.name = name\n",
    "\t\tfor key, value in opts.items():\n",
    "\t\t\tsetattr(self, key, value)\n",
    "\n",
    "\tdef __set__(self, instance, value):\n",
    "\t\tinstance.__dict__[self.name] = value\n",
    "\n",
    "# Descriptor for enforcing types\n",
    "class Typed(Descriptor):\n",
    "\texpected_type = type(None)\n",
    "\n",
    "\tdef __set__(self, instance, value):\n",
    "\t\tif not isinstance(value, self.expected_type):\n",
    "\t\t\traise TypeError('expected '+ str(self.expected_type))\n",
    "\t\tsuper().__set__(instance, value)\n",
    "\n",
    "# Descriptor for enforcing values\n",
    "class Unsigned(Descriptor):\n",
    "\tdef __set__(self, instance, value):\n",
    "\t\tif value < 0:\n",
    "\t\t\traise ValueError('Expected >= 0')\n",
    "\t\tsuper().__set__(instance, value)\n",
    "\n",
    "class MaxSized(Descriptor):\n",
    "\tdef __init__(self, name=None, **opts):\n",
    "\t\tif 'size' not in opts:\n",
    "\t\t\traise TypeError('Missing size option')\n",
    "\t\tsuper().__init__(name, **opts)\n",
    "\tdef __set__(self, instance, value):\n",
    "\t\tif len(value) >= self.size:\n",
    "\t\t\traise ValueError('Size must be < ' + str(self.size))\n",
    "\t\tsuper().__set__(instance, value)\n",
    "\n",
    "class Integer(Typed):\n",
    "\texpected_type = int\n",
    "\n",
    "class UnsignedInteger(Integer, Unsigned):\n",
    "\tpass\n",
    "\n",
    "class Float(Typed):\n",
    "\texpected_type = float\n",
    "\n",
    "class UnsignedFloat(Float, Unsigned):\n",
    "\tpass\n",
    "\n",
    "class String(Typed):\n",
    "\texpected_type = str\n",
    "\n",
    "class SizedString(String, MaxSized):\n",
    "\tpass\n",
    "\n",
    "\n"
   ]
  },
  {
   "cell_type": "code",
   "execution_count": null,
   "metadata": {},
   "outputs": [],
   "source": [
    "class Stock:\n",
    "\t# Specify constraints\n",
    "\tname = SizedString('name',size=8)\n",
    "\tshares = UnsignedInteger('shares')\n",
    "\tprice = UnsignedFloat('price')\n",
    "\n",
    "\tdef __init__(self, name, shares, price):\n",
    "\t\tself.name = name\n",
    "\t\tself.shares = shares\n",
    "\t\tself.price = price\n",
    "\t\t"
   ]
  },
  {
   "cell_type": "code",
   "execution_count": null,
   "metadata": {},
   "outputs": [],
   "source": [
    "# Class decoratir to apply constraints\n",
    "from pydoc import describe\n",
    "\n",
    "\n",
    "def check_attributes(**kwargs):\n",
    "\tdef decorate(cls):\n",
    "\t\tfor key, value in kwargs.items():\n",
    "\t\t\tif isinstance(value, Descriptor):\n",
    "\t\t\t\tvalue.name = key\n",
    "\t\t\t\tsetattr(cls, key, value)\n",
    "\t\t\telse :\n",
    "\t\t\t\tsetattr(cls, key, value(key))\n",
    "\t\treturn cls\n",
    "\treturn decorate\n",
    "\n",
    "# Example\n",
    "@check_attributes(name=SizedString(size=8),\n",
    "shares=UnsignedInteger,\n",
    "price = UnsignedFloat)\n",
    "class Stock:\n",
    "\tdef __init__(self, name, shares, price):\n",
    "\t\tself.name = name\n",
    "\t\tself.shares = shares\n",
    "\t\tself.price = price"
   ]
  },
  {
   "cell_type": "code",
   "execution_count": 3,
   "metadata": {},
   "outputs": [],
   "source": [
    "# A metaclass that applies checking\n",
    "class checkmeta(type):\n",
    "\tdef __new__(cls, clsname, bases, methods):\n",
    "\t\t# Attach attribute name to the descriptors\n",
    "\t\tfor key, value in methods.items():\n",
    "\t\t\tif isinstance(value, Descriptor):\n",
    "\t\t\t\tvalue.name = key\n",
    "\t\treturn type.__new__(cls, clsname, bases, methods)\n",
    "\n",
    "class Stock(metaclass=checkmeta):\n",
    "\tname = SizedString(size=8)\n",
    "\tshares = UnsignedInteger()\n",
    "\tprice = UnsignedFloat()\n",
    "\tdef __init__(self, name, shares, price):\n",
    "\t\tself.name = name\n",
    "\t\tself.shares = shares\n",
    "\t\tself.price = price"
   ]
  },
  {
   "cell_type": "code",
   "execution_count": 4,
   "metadata": {},
   "outputs": [],
   "source": [
    "# Base class. Use a descriptor to set the value\n",
    "class Descriptor:\n",
    "\tdef __init__(self, name=None, **opts):\n",
    "\t\tself.name = name\n",
    "\t\tfor key, value in opts.items():\n",
    "\t\t\tsetattr(self, key, value)\n",
    "\n",
    "\tdef __set__(self, instance, value):\n",
    "\t\tinstance.__dict__[self.name] = value\n",
    "\n",
    "# Decorator for applying type checking\n",
    "def Typed(expected_type, cls=None):\n",
    "\tif cls is None:\n",
    "\t\treturn lambda cls: Typed(expected_type, cls)\n",
    "\t\n",
    "\tsuper_set = cls.__set__\n",
    "\tdef __set__(self, instance, value):\n",
    "\t\tif not isinstance(value, expected_type):\n",
    "\t\t\traise TypeError('expected ' + str(expected_type))\n",
    "\t\tsuper_set(self, instance, value)\n",
    "\tcls.__set__ = __set__\n",
    "\treturn cls\n",
    "\n",
    "# Decorator for unsigned values\n",
    "def Unsigned(cls):\n",
    "\tsuper_set = cls.__set__\n",
    "\n",
    "\tdef __set__(self, instance, value):\n",
    "\t\tif value < 0:\n",
    "\t\t\traise ValueError('Expected >= 0')\n",
    "\t\tsuper_set(self, instance, value)\n",
    "\n",
    "\tcls.__set__ = __set__\n",
    "\treturn cls\n",
    "\n",
    "# Decorator for allowing sized values \n",
    "def MaxSized(cls):\n",
    "\tsuper_init = cls.__init__\n",
    "\tdef __init__(self, name=None, **opts):\n",
    "\t\tif 'size' not in opts:\n",
    "\t\t\traise TypeError('missing size option')\n",
    "\t\tsuper_init(self, name, **opts)\n",
    "\tcls.__init__ = __init__\n",
    "\n",
    "\tsuper_set = cls.__set__\n",
    "\n",
    "\tdef __set__(self, instance, value):\n",
    "\t\tif len(value) >= self.size:\n",
    "\t\t\traise ValueError('size must be < ' + str(self.size))\n",
    "\t\tsuper_set(self, instance, value)\n",
    "\tcls.__set__ = __set__\n",
    "\treturn cls\n",
    "\n",
    "# Specialized descriptors\n",
    "@Typed(int)\n",
    "class Integer(Descriptor):\n",
    "\tpass\n",
    "\n",
    "@Unsigned\n",
    "class UnsignedInteger(Integer):\n",
    "\tpass\n",
    "\n",
    "@Typed(float)\n",
    "class Float(Descriptor):\n",
    "\tpass\n",
    "\n"
   ]
  },
  {
   "cell_type": "code",
   "execution_count": 9,
   "metadata": {},
   "outputs": [
    {
     "data": {
      "text/plain": [
       "[1, 3, 4, 5]"
      ]
     },
     "execution_count": 9,
     "metadata": {},
     "output_type": "execute_result"
    }
   ],
   "source": [
    "import collections\n",
    "import bisect\n",
    "\n",
    "class SortedItems(collections.abc.Sequence):\n",
    "\tdef __init__(self, initial=None):\n",
    "\t\tself._items = sorted(initial) if initial is not None else []\n",
    "\n",
    "\t# Required sequence methods\n",
    "\tdef __getitem__(self, index):\n",
    "\t\treturn self._items[index]\n",
    "\n",
    "\tdef __len__(self):\n",
    "\t\treturn len(self._items)\n",
    "\t\t\n",
    "\t# Method for adding an item in the right location\n",
    "\tdef add(self, item):\n",
    "\t\tbisect.insort(self._items, item)\n",
    "\n",
    "items = SortedItems([5,3,1,4])\n",
    "\n",
    "list(items)"
   ]
  },
  {
   "cell_type": "code",
   "execution_count": null,
   "metadata": {},
   "outputs": [],
   "source": [
    "class Items(collections.abc.MutableSequence):\n",
    "\tdef __init__(self, initial=None):\n",
    "\t\tself._items = list(initial) if intial is not None else []\n",
    "\t\n",
    "\t# Required sequence methods\n",
    "\tdef __getitem__(self, index):\n",
    "\t\tprint('Getting ', index)\n",
    "\t\treturn self._items[index]\n",
    "\n",
    "\tdef __setitem__(self, index, value):\n",
    "\t\tprint('Setting:', index, value)\n",
    "\t\tself._items[index] = value\n",
    "\n",
    "\tdef __delitem__(self, index):\n",
    "\t\tprint('Deleting:', index)\n",
    "\t\tdel self._items[index]\n",
    "\t\n",
    "\tdef insert(self, index, value):\n",
    "\t\tprint('Inserting:', index, value)\n",
    "\t\tself._items.insert(index, value)\n",
    "\n",
    "\tdef __len__(self):\n",
    "\t\tprint('Len')\n",
    "\t\treturn len(self._items)\n",
    "\t"
   ]
  },
  {
   "cell_type": "code",
   "execution_count": 3,
   "metadata": {},
   "outputs": [],
   "source": [
    "class A:\n",
    "\tdef spam(self, x):\n",
    "\t\tpass\n",
    "\n",
    "\tdef foo(self):\n",
    "\t\tpass\n",
    "\n",
    "class B:\n",
    "\tdef __init__(self):\n",
    "\t\tself._a=A()\n",
    "\n",
    "\tdef spam(self, x):\n",
    "\t\t# Delegate to the inaternal self._a instance\n",
    "\t\treturn self._a.spam(x)\n",
    "\n",
    "\tdef foo(self):\n",
    "\t\t# Delegate to the internal self._a instance\n",
    "\t\treturn self._a.foo()\n",
    "\n",
    "\tdef bar(self):\n",
    "\t\tpass\n",
    "\n",
    "# Use __getattr__() method\n",
    "class B:\n",
    "\tdef __init__(self):\n",
    "\t\tself._a = A()\n",
    "\n",
    "\tdef bar(self):\n",
    "\t\tpass\n",
    "\n",
    "\t# Expose all of the methods defined on class A\n",
    "\tdef __getattr__(self, name):\n",
    "\t\treturn getattr(self._a, name)\n",
    "\n",
    "b = B()\n",
    "\n",
    "b.bar()\n",
    "\n",
    "b.spam(42) # Calls B.__getattr__('spam') and delegates to A.spam\n",
    "\n"
   ]
  },
  {
   "cell_type": "code",
   "execution_count": 4,
   "metadata": {},
   "outputs": [
    {
     "name": "stdout",
     "output_type": "stream",
     "text": [
      "getattr: x\n",
      "2\n",
      "getattr: bar\n",
      "Spam.bar: 2 3\n",
      "setattr: x 37\n"
     ]
    }
   ],
   "source": [
    "# A proxy class that wraps around another object, but\n",
    "# exposes its public attributes\n",
    "\n",
    "class Proxy:\n",
    "\tdef __init__(self, obj):\n",
    "\t\tself._obj = obj\n",
    "\n",
    "\t# Delegate attribute lookup to internal obj\n",
    "\tdef __getattr__(self, name):\n",
    "\t\tprint('getattr:', name)\n",
    "\t\treturn getattr(self._obj, name)\n",
    "\n",
    "\t# Delegate attribute assignment\n",
    "\tdef __setattr__(self, name, value):\n",
    "\t\tif name.startswith('_'):\n",
    "\t\t\tsuper().__setattr__(name, value)\n",
    "\t\telse:\n",
    "\t\t\tprint('setattr:', name, value)\n",
    "\t\t\tsetattr(self._obj, name, value)\n",
    "\t\t\n",
    "\t# Delegate attribute deletion\n",
    "\tdef __delattr__(self, name):\n",
    "\t\tif name.startswith('_'):\n",
    "\t\t\tsuper().__delattr__(name)\n",
    "\t\telse:\n",
    "\t\t\tprint('delattr:', name)\n",
    "\t\t\tdelattr(self._obj, name)\n",
    "\n",
    "class Spam:\n",
    "\tdef __init__(self, x):\n",
    "\t\tself.x = x\n",
    "\n",
    "\tdef bar(self, y):\n",
    "\t\tprint('Spam.bar:', self.x,y)\n",
    "\n",
    "s = Spam(2)\n",
    "\n",
    "p = Proxy(s)\n",
    "\n",
    "print(p.x)\n",
    "\n",
    "p.bar(3)\n",
    "\n",
    "p.x = 37"
   ]
  },
  {
   "cell_type": "code",
   "execution_count": 2,
   "metadata": {},
   "outputs": [],
   "source": [
    "import time\n",
    "\n",
    "class Date:\n",
    "\t# Primary constructor\n",
    "\tdef __init__(self, year, month, day):\n",
    "\t\tself.year = year\n",
    "\t\tself.month = month\n",
    "\t\tself.day = day\n",
    "\n",
    "\t# Alternate constructor\n",
    "\t@classmethod\n",
    "\tdef today(cls):\n",
    "\t\tt = time.localtime()\n",
    "\t\treturn cls(t.tm_year, t.tm_mon, t.tm_mday)\n",
    "\n",
    "a = Date(2012,12,21)\n",
    "\n",
    "b = Date.today()\n"
   ]
  },
  {
   "cell_type": "code",
   "execution_count": 3,
   "metadata": {},
   "outputs": [
    {
     "data": {
      "text/plain": [
       "(<__main__.Date at 0x7f004db876a0>, <__main__.Date at 0x7f004db86b60>)"
      ]
     },
     "execution_count": 3,
     "metadata": {},
     "output_type": "execute_result"
    }
   ],
   "source": [
    "a, b"
   ]
  },
  {
   "cell_type": "code",
   "execution_count": 4,
   "metadata": {},
   "outputs": [],
   "source": [
    "class LoggedMappingMixin:\n",
    "\t'''\n",
    "\tAdd logging to get/set/delete operations for debugging\n",
    "\t'''\n",
    "\n",
    "\t__slots__ = ()\n",
    "\n",
    "\tdef __getitem__(self, key):\n",
    "\t\tprint('Getting ' + str(key))\n",
    "\t\treturn super().__getitem__(key)\n",
    "\n",
    "\tdef __setitem__(self, key, value):\n",
    "\t\tprint('Setting {} = {!r}'.format(key, value))\n",
    "\t\treturn super().__setitem__(key,value)\n",
    "\n",
    "\tdef __delitem__(self, key):\n",
    "\t\tprint('Deleting '+ str(key))\n",
    "\t\treturn super().__delitem__(key)\n",
    "\n",
    "class SetOnceMappingMixin:\n",
    "\t'''\n",
    "\tOnly allow a key to be set once\n",
    "\t'''\n",
    "\n",
    "\t__slots__ = ()\n",
    "\n",
    "\tdef __setitem__(self, key, value):\n",
    "\t\tif key in self:\n",
    "\t\t\traise KeyError(str(key) + ' already set')\n",
    "\t\treturn super().__setitem__(key, value)\n",
    "\n",
    "class StringKeyMappingMixin:\n",
    "\t'''\n",
    "\tRestrict key to strings only\n",
    "\t'''\n",
    "\n",
    "\t__slots__ = ()\n",
    "\n",
    "\tdef __setitem__(self, key, value):\n",
    "\t\tif not isinstance(key, str):\n",
    "\t\t\traise TypeError('key must be strings')\n",
    "\t\treturn super().__setitem__(key, value)\n",
    "\t\n"
   ]
  },
  {
   "cell_type": "code",
   "execution_count": 6,
   "metadata": {},
   "outputs": [
    {
     "name": "stdout",
     "output_type": "stream",
     "text": [
      "Setting x = 23\n",
      "Getting x\n",
      "Deleting x\n"
     ]
    }
   ],
   "source": [
    "class LoggedDict(LoggedMappingMixin, dict):\n",
    "\tpass\n",
    "\n",
    "d = LoggedDict()\n",
    "\n",
    "d['x'] = 23\n",
    "\n",
    "d['x']\n",
    "\n",
    "del d['x']"
   ]
  },
  {
   "cell_type": "code",
   "execution_count": 7,
   "metadata": {},
   "outputs": [
    {
     "ename": "KeyError",
     "evalue": "'x already set'",
     "output_type": "error",
     "traceback": [
      "\u001b[0;31m---------------------------------------------------------------------------\u001b[0m",
      "\u001b[0;31mKeyError\u001b[0m                                  Traceback (most recent call last)",
      "\u001b[1;32m/home/zq/Desktop/zq-dev/practice/PythonCookbook/ch-8_classes-and-objects.ipynb Cell 41\u001b[0m in \u001b[0;36m<cell line: 11>\u001b[0;34m()\u001b[0m\n\u001b[1;32m      <a href='vscode-notebook-cell:/home/zq/Desktop/zq-dev/practice/PythonCookbook/ch-8_classes-and-objects.ipynb#X55sZmlsZQ%3D%3D?line=6'>7</a>\u001b[0m d[\u001b[39m'\u001b[39m\u001b[39my\u001b[39m\u001b[39m'\u001b[39m]\u001b[39m.\u001b[39mappend(\u001b[39m3\u001b[39m)\n\u001b[1;32m      <a href='vscode-notebook-cell:/home/zq/Desktop/zq-dev/practice/PythonCookbook/ch-8_classes-and-objects.ipynb#X55sZmlsZQ%3D%3D?line=8'>9</a>\u001b[0m d[\u001b[39m'\u001b[39m\u001b[39mx\u001b[39m\u001b[39m'\u001b[39m]\u001b[39m.\u001b[39mappend(\u001b[39m10\u001b[39m)\n\u001b[0;32m---> <a href='vscode-notebook-cell:/home/zq/Desktop/zq-dev/practice/PythonCookbook/ch-8_classes-and-objects.ipynb#X55sZmlsZQ%3D%3D?line=10'>11</a>\u001b[0m d[\u001b[39m'\u001b[39m\u001b[39mx\u001b[39m\u001b[39m'\u001b[39m] \u001b[39m=\u001b[39m \u001b[39m23\u001b[39m\n",
      "\u001b[1;32m/home/zq/Desktop/zq-dev/practice/PythonCookbook/ch-8_classes-and-objects.ipynb Cell 41\u001b[0m in \u001b[0;36mSetOnceMappingMixin.__setitem__\u001b[0;34m(self, key, value)\u001b[0m\n\u001b[1;32m     <a href='vscode-notebook-cell:/home/zq/Desktop/zq-dev/practice/PythonCookbook/ch-8_classes-and-objects.ipynb#X55sZmlsZQ%3D%3D?line=26'>27</a>\u001b[0m \u001b[39mdef\u001b[39;00m \u001b[39m__setitem__\u001b[39m(\u001b[39mself\u001b[39m, key, value):\n\u001b[1;32m     <a href='vscode-notebook-cell:/home/zq/Desktop/zq-dev/practice/PythonCookbook/ch-8_classes-and-objects.ipynb#X55sZmlsZQ%3D%3D?line=27'>28</a>\u001b[0m \t\u001b[39mif\u001b[39;00m key \u001b[39min\u001b[39;00m \u001b[39mself\u001b[39m:\n\u001b[0;32m---> <a href='vscode-notebook-cell:/home/zq/Desktop/zq-dev/practice/PythonCookbook/ch-8_classes-and-objects.ipynb#X55sZmlsZQ%3D%3D?line=28'>29</a>\u001b[0m \t\t\u001b[39mraise\u001b[39;00m \u001b[39mKeyError\u001b[39;00m(\u001b[39mstr\u001b[39m(key) \u001b[39m+\u001b[39m \u001b[39m'\u001b[39m\u001b[39m already set\u001b[39m\u001b[39m'\u001b[39m)\n\u001b[1;32m     <a href='vscode-notebook-cell:/home/zq/Desktop/zq-dev/practice/PythonCookbook/ch-8_classes-and-objects.ipynb#X55sZmlsZQ%3D%3D?line=29'>30</a>\u001b[0m \t\u001b[39mreturn\u001b[39;00m \u001b[39msuper\u001b[39m()\u001b[39m.\u001b[39m\u001b[39m__setitem__\u001b[39m(key, value)\n",
      "\u001b[0;31mKeyError\u001b[0m: 'x already set'"
     ]
    }
   ],
   "source": [
    "from collections import defaultdict\n",
    "class SetOnceDefaultDict(SetOnceMappingMixin, defaultdict):\n",
    "\tpass\n",
    "\n",
    "d = SetOnceDefaultDict(list)\n",
    "d['x'].append(2)\n",
    "d['y'].append(3)\n",
    "\n",
    "d['x'].append(10)\n",
    "\n",
    "d['x'] = 23"
   ]
  },
  {
   "cell_type": "code",
   "execution_count": 11,
   "metadata": {},
   "outputs": [
    {
     "data": {
      "text/plain": [
       "{'name': 'Dave', 'n': 37, '42': 10}"
      ]
     },
     "execution_count": 11,
     "metadata": {},
     "output_type": "execute_result"
    }
   ],
   "source": [
    "from re import L\n",
    "\n",
    "\n",
    "class RestrictKeyMixin:\n",
    "\tdef __init__(self, *args, _restrict_key_type, **kwargs):\n",
    "\t\tself.__restrict_key_type = _restrict_key_type\n",
    "\t\tsuper().__init__(*args, **kwargs)\n",
    "\n",
    "\tdef __setitem__(self, key, value):\n",
    "\t\tif not isinstance(key, self.__restrict_key_type):\n",
    "\t\t\traise TypeError('Key must be ' + str(self.__restrict_key_type))\n",
    "\t\tsuper().__setitem__(key, value)\n",
    "\n",
    "class RDict(RestrictKeyMixin, dict):\n",
    "\tpass\n",
    "\n",
    "d = RDict(_restrict_key_type=str)\n",
    "e = RDict([('name', 'Dave'), ('n', 37)], _restrict_key_type=str)\n",
    "f = RDict(name='Dave', n=37, _restrict_key_type=str)\n",
    "\n",
    "f['42'] = 10\n",
    "\n",
    "f"
   ]
  },
  {
   "cell_type": "code",
   "execution_count": null,
   "metadata": {},
   "outputs": [],
   "source": [
    "def LoggedMapping(cls):\n",
    "\tcls_getitem = cls.__getitem__\n",
    "\tcls_setitem = cls.__setitem__\n",
    "\tcls_delitem = cls.__delitem__\n",
    "\n",
    "\tdef __getitem__(self, key):\n",
    "\t\tprint('Getting ' + str(key))\n",
    "\t\treturn cls_getitem(self, key)\n",
    "\n",
    "\tdef __setitem__(self, key, value):\n",
    "\t\tprint('Setting {} = {!r}'.format(key, value))\n",
    "\t\treturn cls_setitem(self, key, value)\n",
    "\n",
    "\tdef __delitem__(self, key):\n",
    "\t\tprint('Deleting ', + str(key))\n",
    "\t\treturn cls_delitem(self, key)\n",
    "\n",
    "\tcls.__getitem__ = __getitem__\n",
    "\tcls.__setitem__ = __setitem__\n",
    "\tcls.__delitem__ = __delitem__\n",
    "\treturn cls\n",
    "\n",
    "@LoggedMapping\n",
    "class LoggedDict(dict):\n",
    "\tpass"
   ]
  },
  {
   "cell_type": "code",
   "execution_count": 12,
   "metadata": {},
   "outputs": [],
   "source": [
    "class Connection:\n",
    "\tdef __init__(self):\n",
    "\t\tself.new_state(ClosedConnectionState)\n",
    "\n",
    "\tdef new_state(self, newstate):\n",
    "\t\tself._state = newstate\n",
    "\n",
    "\tdef read(self):\n",
    "\t\treturn self._state.read(self)\n",
    "\n",
    "\tdef write(self, data):\n",
    "\t\treturn self._state.write(self, data)\n",
    "\n",
    "\tdef open(self):\n",
    "\t\treturn self._state.open(self)\n",
    "\n",
    "\tdef close(self):\n",
    "\t\treturn self._state.close(self)\n",
    "\n",
    "# Connection state base class\n",
    "class ConnectionState:\n",
    "\t@staticmethod\n",
    "\tdef read(conn):\n",
    "\t\traise NotImplementedError()\n",
    "\n",
    "\t@staticmethod\n",
    "\tdef write(conn, data):\n",
    "\t\traise NotImplementedError()\n",
    "\n",
    "\t@staticmethod\n",
    "\tdef open(conn):\n",
    "\t\traise NotImplementedError()\n",
    "\n",
    "\t@staticmethod\n",
    "\tdef close(conn):\n",
    "\t\traise NotImplementedError()\n",
    "\n",
    "# Implementation of different states\n",
    "class ClosedConnectionState(ConnectionState):\n",
    "\t@staticmethod\n",
    "\tdef read(conn):\n",
    "\t\traise RuntimeError('Not open')\n",
    "\n",
    "\t@staticmethod\n",
    "\tdef write(conn, data):\n",
    "\t\traise RuntimeError('Not open')\n",
    "\n",
    "\t@staticmethod\n",
    "\tdef open(conn):\n",
    "\t\tconn.new_state(OpenConnectionState)\n",
    "\n",
    "\t@staticmethod\n",
    "\tdef close(conn):\n",
    "\t\traise RuntimeError('Already closed')\n",
    "\n",
    "class OpenConnectionState(ConnectionState):\n",
    "\t@staticmethod\n",
    "\tdef read(conn):\n",
    "\t\tprint('reading')\n",
    "\n",
    "\t@staticmethod\n",
    "\tdef write(conn, data):\n",
    "\t\tprint('writing')\n",
    "\n",
    "\t@staticmethod\n",
    "\tdef open(conn):\n",
    "\t\traise RuntimeError('Already open')\n",
    "\n",
    "\t@staticmethod\n",
    "\tdef close(conn):\n",
    "\t\tconn.new_state(ClosedConnectionState)\n",
    "\n",
    "\t\t\n",
    "\t"
   ]
  },
  {
   "cell_type": "code",
   "execution_count": 16,
   "metadata": {},
   "outputs": [
    {
     "name": "stdout",
     "output_type": "stream",
     "text": [
      "reading\n"
     ]
    }
   ],
   "source": [
    "c = Connection()\n",
    "\n",
    "c._state\n",
    "\n",
    "\n",
    "c.open()\n",
    "c.read()"
   ]
  },
  {
   "cell_type": "code",
   "execution_count": 2,
   "metadata": {},
   "outputs": [
    {
     "data": {
      "text/plain": [
       "3.605551275463989"
      ]
     },
     "execution_count": 2,
     "metadata": {},
     "output_type": "execute_result"
    }
   ],
   "source": [
    "import math\n",
    "\n",
    "class Point:\n",
    "\tdef __init__(self, x, y):\n",
    "\t\tself.x = x\n",
    "\t\tself.y = y\n",
    "\n",
    "\tdef __repr__(self):\n",
    "\t\treturn 'Point({!r:}, {!r:})'.format(self.x, self.y)\n",
    "\n",
    "\tdef distance(self, x, y):\n",
    "\t\treturn math.hypot(self.x - x, self.y -y)\n",
    "\n",
    "p = Point(2,3)\n",
    "\n",
    "d = getattr(p, 'distance')(0, 0)\n",
    "\n",
    "d"
   ]
  },
  {
   "cell_type": "code",
   "execution_count": 4,
   "metadata": {},
   "outputs": [],
   "source": [
    "class NodeVisitor:\n",
    "\tdef visit(self, node):\n",
    "\t\tmethname = 'visit_' + type(node).__name__\n",
    "\t\tmeth = getattr(self, methname, None)\n",
    "\t\tif meth is None:\n",
    "\t\t\tmeth = self.generic_visit\n",
    "\t\treturn meth(node)\n",
    "\n",
    "\tdef generic_visit(self, node):\n",
    "\t\traise RuntimeError('No {} method'.format('visit_' + type(node).__name__))\n",
    "\n",
    "class Evaluator(NodeVisitor):\n",
    "\tdef visit_Number(self, node):\n",
    "\t\treturn node.value\n",
    "\n",
    "\tdef visit_Add(self, node):\n",
    "\t\treturn self.visit(node.left) + self.visit(node.right)\n",
    "\n",
    "\tdef visit_Sub(self, node):\n",
    "\t\treturn self.visit(node.left) - self.visit(node.right)\n",
    "\n",
    "\tdef visit_Mul(self, node):\n",
    "\t\treturn self.visit(node.left) * self.visit(node.right)\n",
    "\n",
    "\tdef visit_Div(self, node):\n",
    "\t\treturn self.visit(node.left) / self.visit(node.right)\n",
    "\n",
    "\tdef visit_Negate(self, node):\n",
    "\t\treturn -node.operand\n",
    "\n",
    "\t"
   ]
  },
  {
   "cell_type": "code",
   "execution_count": 6,
   "metadata": {},
   "outputs": [],
   "source": [
    "import sys\n",
    "sys.setrecursionlimit(10000)\n"
   ]
  },
  {
   "cell_type": "code",
   "execution_count": 8,
   "metadata": {},
   "outputs": [
    {
     "data": {
      "text/plain": [
       "10000"
      ]
     },
     "execution_count": 8,
     "metadata": {},
     "output_type": "execute_result"
    }
   ],
   "source": [
    "sys.getrecursionlimit()"
   ]
  },
  {
   "cell_type": "code",
   "execution_count": 3,
   "metadata": {},
   "outputs": [],
   "source": [
    "import types \n",
    "\n",
    "class Node:\n",
    "\tpass\n",
    "\n",
    "class NodeVisitor:\n",
    "\tdef visit(self, node):\n",
    "\t\tstack = [node]\n",
    "\t\tlast_result = None\n",
    "\t\twhile stack:\n",
    "\t\t\ttry:\n",
    "\t\t\t\tlast = stack[-1]\n",
    "\t\t\t\tif isinstance(last, types.GeneratorType):\n",
    "\t\t\t\t\tstack.append(last.send(last_result))\n",
    "\t\t\t\t\tlast_result = None\n",
    "\t\t\t\telif isinstance(last, Node):\n",
    "\t\t\t\t\tstack.append(self._visit(stack.pop()))\n",
    "\t\t\t\telse:\n",
    "\t\t\t\t\tlast_result = stack.pop()\n",
    "\t\t\texcept StopIteration:\n",
    "\t\t\t\tstack.pop()\n",
    "\t\treturn last_result\n",
    "\n",
    "\tdef _visit(self, node):\n",
    "\t\tmethname='visit_'+type(node).__name__\n",
    "\t\tmeth = getattr(self, methname, None)\n",
    "\t\tif meth is None:\n",
    "\t\t\tmeth = self.generic_visit\n",
    "\t\treturn meth(node)\n",
    "\n",
    "\tdef generic_visie(self, node):\n",
    "\t\traise RuntimeError('No {} method'.format('visit_'+type(node).__name__))\n",
    "\t\t"
   ]
  },
  {
   "cell_type": "code",
   "execution_count": 4,
   "metadata": {},
   "outputs": [],
   "source": [
    "class UnaryOperator(Node):\n",
    "\tdef __init__(self, operand):\n",
    "\t\tself.operand = operand\n",
    "\n",
    "class BinaryOperator(Node):\n",
    "\tdef __init__(self, left, right):\n",
    "\t\tself.left = left\n",
    "\t\tself.right = right\n",
    "\n",
    "class Add(BinaryOperator):\n",
    "\tpass\n",
    "\n",
    "class Sub(BinaryOperator):\n",
    "\tpass\n",
    "\n",
    "class Mul(BinaryOperator):\n",
    "\tpass\n",
    "\n",
    "class Div(BinaryOperator):\n",
    "\tpass\n",
    "\n",
    "class Negate(UnaryOperator):\n",
    "\tpass\n",
    "\n",
    "class Number(Node):\n",
    "\tdef __init__(self,value):\n",
    "\t\tself.value = value\n",
    "\n"
   ]
  },
  {
   "cell_type": "code",
   "execution_count": 5,
   "metadata": {},
   "outputs": [
    {
     "name": "stdout",
     "output_type": "stream",
     "text": [
      "0.6\n"
     ]
    }
   ],
   "source": [
    "class Evaluator(NodeVisitor):\n",
    "\tdef visit_Number(self, node):\n",
    "\t\treturn node.value\n",
    "\n",
    "\tdef visit_Add(self, node):\n",
    "\t\treturn self.visit(node.left) + self.visit(node.right)\n",
    "\n",
    "\tdef visit_Sub(self, node):\n",
    "\t\treturn self.visit(node.left) - self.visit(node.right)\n",
    "\n",
    "\tdef visit_Mul(self, node):\n",
    "\t\treturn self.visit(node.left) * self.visit(node.right)\n",
    "\n",
    "\tdef visit_Div(self, node):\n",
    "\t\treturn self.visit(node.left) / self.visit(node.right)\n",
    "\n",
    "\tdef visit_Negate(self, node):\n",
    "\t\treturn -self.visit(node.operand)\n",
    "\n",
    "\n",
    "if __name__ == '__main__':\n",
    "\t# 1 + 2 * (3-4) / 5\n",
    "\tt1 = Sub(Number(3), Number(4))\n",
    "\tt2 = Mul(Number(2), t1)\n",
    "\tt3 = Div(t2, Number(5))\n",
    "\tt4 = Add(Number(1), t3)\n",
    "\n",
    "\t#Evaluate it\n",
    "\te = Evaluator()\n",
    "\tprint(e.visit(t4))\n",
    "\t"
   ]
  },
  {
   "cell_type": "code",
   "execution_count": 6,
   "metadata": {},
   "outputs": [
    {
     "name": "stdout",
     "output_type": "stream",
     "text": [
      "499999500000\n"
     ]
    }
   ],
   "source": [
    "class Evaluator(NodeVisitor):\n",
    "\tdef visit_Number(self, node):\n",
    "\t\treturn node.value\n",
    "\n",
    "\tdef visit_Add(self, node):\n",
    "\t\tyield (yield node.left) + (yield node.right)\n",
    "\n",
    "\tdef visit_Sub(slef, node):\n",
    "\t\tyield (yield node.left) - (yield node.right)\n",
    "\n",
    "\tdef visit_Mul(self, node):\n",
    "\t\tyield (yield node.left) * (yield node.right)\n",
    "\n",
    "\tdef visit_Div(self, node):\n",
    "\t\tyield (yield node.left) / (yield node.right)\n",
    "\n",
    "\tdef visit_Negate(self, node):\n",
    "\t\tyield - (yield node.operand)\n",
    "\n",
    "a = Number(0)\n",
    "\n",
    "for n in range(1,1000000):\n",
    "\ta = Add(a, Number(n))\n",
    "\n",
    "\n",
    "e = Evaluator()\n",
    "\n",
    "print(e.visit(a))\n",
    "\n"
   ]
  },
  {
   "cell_type": "code",
   "execution_count": null,
   "metadata": {},
   "outputs": [],
   "source": [
    "class Evaluator(NodeVisitor):\n",
    "\t...\n",
    "\tdef visit_Add(self, node):\n",
    "\t\tprint('Add:', node)\n",
    "\t\tlhs = yield node.left\n",
    "\t\tprint('left=', lhs)\n",
    "\n",
    "\t\trhs = yield node.right\n",
    "\t\tprint('right=', rhs)\n",
    "\n",
    "\t\tyield lhs + rhs\n",
    "\t..."
   ]
  },
  {
   "cell_type": "code",
   "execution_count": 8,
   "metadata": {},
   "outputs": [
    {
     "name": "stdout",
     "output_type": "stream",
     "text": [
      "Node('parent')\n",
      "None\n"
     ]
    }
   ],
   "source": [
    "import weakref\n",
    "\n",
    "class Node:\n",
    "\tdef __init__(self, value):\n",
    "\t\tself.value = value\n",
    "\t\tself._parent = None\n",
    "\t\tself.children = []\n",
    "\n",
    "\tdef __repr__(self):\n",
    "\t\treturn 'Node({!r:})'.format(self.value)\n",
    "\n",
    "\t# Property that manages the parent as a weak-reference\n",
    "\t@property\n",
    "\tdef parent(self):\n",
    "\t\treturn self._parent if self._parent is None else self._parent()\n",
    "\n",
    "\t@parent.setter\n",
    "\tdef parent(self, node):\n",
    "\t\tself._parent = weakref.ref(node)\n",
    "\n",
    "\tdef add_children(self, child):\n",
    "\t\tself.children.append(child)\n",
    "\t\tchild.parent = self\n",
    "\n",
    "root = Node('parent')\n",
    "c1 = Node('child')\n",
    "root.add_children(c1)\n",
    "\n",
    "print(c1.parent)\n",
    "\n",
    "del root\n",
    "print(c1.parent)"
   ]
  }
 ],
 "metadata": {
  "kernelspec": {
   "display_name": "Python 3.10.4 64-bit",
   "language": "python",
   "name": "python3"
  },
  "language_info": {
   "codemirror_mode": {
    "name": "ipython",
    "version": 3
   },
   "file_extension": ".py",
   "mimetype": "text/x-python",
   "name": "python",
   "nbconvert_exporter": "python",
   "pygments_lexer": "ipython3",
   "version": "3.10.4"
  },
  "orig_nbformat": 4,
  "vscode": {
   "interpreter": {
    "hash": "31f2aee4e71d21fbe5cf8b01ff0e069b9275f58929596ceb00d14d90e3e16cd6"
   }
  }
 },
 "nbformat": 4,
 "nbformat_minor": 2
}
